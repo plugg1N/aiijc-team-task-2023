{
  "nbformat": 4,
  "nbformat_minor": 0,
  "metadata": {
    "colab": {
      "provenance": []
    },
    "kernelspec": {
      "name": "python3",
      "display_name": "Python 3"
    },
    "language_info": {
      "name": "python"
    }
  },
  "cells": [
    {
      "cell_type": "markdown",
      "source": [
        "# Начинаем с просмотра данных в задании"
      ],
      "metadata": {
        "id": "VPcxMYJQG4qV"
      }
    },
    {
      "cell_type": "code",
      "execution_count": 110,
      "metadata": {
        "id": "Yd7TFSFqB7yl"
      },
      "outputs": [],
      "source": [
        "# Изучение данных\n",
        "import pandas as pd\n",
        "import seaborn as sns\n",
        "\n",
        "# Инструменты\n",
        "from sklearn.model_selection import train_test_split\n",
        "from sklearn.preprocessing import MinMaxScaler\n",
        "from sklearn.model_selection import GridSearchCV, cross_val_score\n",
        "\n",
        "# Модели\n",
        "from sklearn.linear_model import LogisticRegression\n",
        "from sklearn.neighbors import KNeighborsClassifier\n",
        "from sklearn.ensemble import RandomForestClassifier\n",
        "\n",
        "# Метрики\n",
        "from sklearn.metrics import accuracy_score, precision_score, recall_score, f1_score"
      ]
    },
    {
      "cell_type": "code",
      "source": [
        "data = pd.read_csv('train_AIC.csv')\n",
        "data.head()"
      ],
      "metadata": {
        "colab": {
          "base_uri": "https://localhost:8080/",
          "height": 308
        },
        "id": "T9OnIc8tCB5w",
        "outputId": "9e979a8c-5337-4788-c012-2aba3a7537e5"
      },
      "execution_count": 2,
      "outputs": [
        {
          "output_type": "execute_result",
          "data": {
            "text/plain": [
              "   Поставщик  Материал  Категорийный менеджер  Операционный менеджер  Завод  \\\n",
              "0        606      7448                    4.0                    5.0    1.0   \n",
              "1          7     27439                    1.0                    1.0   21.0   \n",
              "2        318     27213                    1.0                   20.0   11.0   \n",
              "3       1768     19949                    5.0                    2.0    1.0   \n",
              "4          7     27439                    1.0                    1.0   12.0   \n",
              "\n",
              "   Закупочная организация  Группа закупок  Балансовая единица   ЕИ  \\\n",
              "0                     1.0             9.0                 1.0  1.0   \n",
              "1                    15.0           255.0                12.0  3.0   \n",
              "2                    12.0             4.0                 1.0  1.0   \n",
              "3                     1.0            55.0                 1.0  1.0   \n",
              "4                     9.0             8.0                 1.0  3.0   \n",
              "\n",
              "   Группа материалов  ...  Количество изменений после согласований  \\\n",
              "0              150.0  ...                                     11.0   \n",
              "1               12.0  ...                                     11.0   \n",
              "2               11.0  ...                                     12.0   \n",
              "3               34.0  ...                                     14.0   \n",
              "4               12.0  ...                                      7.0   \n",
              "\n",
              "   Дней между 0_1  Дней между 1_2  Дней между 2_3  Дней между 3_4  \\\n",
              "0            82.0             0.0             0.0             0.0   \n",
              "1            12.0            -1.0            -1.0            -1.0   \n",
              "2            27.0             0.0             0.0             0.0   \n",
              "3             2.0             0.0             0.0             0.0   \n",
              "4             1.0            -1.0            -1.0            -1.0   \n",
              "\n",
              "   Дней между 4_5  Дней между 5_6  Дней между 6_7  Дней между 7_8    y  \n",
              "0             0.0            -1.0            -1.0            -1.0  1.0  \n",
              "1            -1.0            -1.0            -1.0            -1.0  0.0  \n",
              "2             0.0            -1.0            -1.0            -1.0  0.0  \n",
              "3             0.0            -1.0            -1.0            -1.0  0.0  \n",
              "4            -1.0            -1.0            -1.0            -1.0  0.0  \n",
              "\n",
              "[5 rows x 44 columns]"
            ],
            "text/html": [
              "\n",
              "  <div id=\"df-9850b981-f39c-47f7-87f2-15fdf2772b80\" class=\"colab-df-container\">\n",
              "    <div>\n",
              "<style scoped>\n",
              "    .dataframe tbody tr th:only-of-type {\n",
              "        vertical-align: middle;\n",
              "    }\n",
              "\n",
              "    .dataframe tbody tr th {\n",
              "        vertical-align: top;\n",
              "    }\n",
              "\n",
              "    .dataframe thead th {\n",
              "        text-align: right;\n",
              "    }\n",
              "</style>\n",
              "<table border=\"1\" class=\"dataframe\">\n",
              "  <thead>\n",
              "    <tr style=\"text-align: right;\">\n",
              "      <th></th>\n",
              "      <th>Поставщик</th>\n",
              "      <th>Материал</th>\n",
              "      <th>Категорийный менеджер</th>\n",
              "      <th>Операционный менеджер</th>\n",
              "      <th>Завод</th>\n",
              "      <th>Закупочная организация</th>\n",
              "      <th>Группа закупок</th>\n",
              "      <th>Балансовая единица</th>\n",
              "      <th>ЕИ</th>\n",
              "      <th>Группа материалов</th>\n",
              "      <th>...</th>\n",
              "      <th>Количество изменений после согласований</th>\n",
              "      <th>Дней между 0_1</th>\n",
              "      <th>Дней между 1_2</th>\n",
              "      <th>Дней между 2_3</th>\n",
              "      <th>Дней между 3_4</th>\n",
              "      <th>Дней между 4_5</th>\n",
              "      <th>Дней между 5_6</th>\n",
              "      <th>Дней между 6_7</th>\n",
              "      <th>Дней между 7_8</th>\n",
              "      <th>y</th>\n",
              "    </tr>\n",
              "  </thead>\n",
              "  <tbody>\n",
              "    <tr>\n",
              "      <th>0</th>\n",
              "      <td>606</td>\n",
              "      <td>7448</td>\n",
              "      <td>4.0</td>\n",
              "      <td>5.0</td>\n",
              "      <td>1.0</td>\n",
              "      <td>1.0</td>\n",
              "      <td>9.0</td>\n",
              "      <td>1.0</td>\n",
              "      <td>1.0</td>\n",
              "      <td>150.0</td>\n",
              "      <td>...</td>\n",
              "      <td>11.0</td>\n",
              "      <td>82.0</td>\n",
              "      <td>0.0</td>\n",
              "      <td>0.0</td>\n",
              "      <td>0.0</td>\n",
              "      <td>0.0</td>\n",
              "      <td>-1.0</td>\n",
              "      <td>-1.0</td>\n",
              "      <td>-1.0</td>\n",
              "      <td>1.0</td>\n",
              "    </tr>\n",
              "    <tr>\n",
              "      <th>1</th>\n",
              "      <td>7</td>\n",
              "      <td>27439</td>\n",
              "      <td>1.0</td>\n",
              "      <td>1.0</td>\n",
              "      <td>21.0</td>\n",
              "      <td>15.0</td>\n",
              "      <td>255.0</td>\n",
              "      <td>12.0</td>\n",
              "      <td>3.0</td>\n",
              "      <td>12.0</td>\n",
              "      <td>...</td>\n",
              "      <td>11.0</td>\n",
              "      <td>12.0</td>\n",
              "      <td>-1.0</td>\n",
              "      <td>-1.0</td>\n",
              "      <td>-1.0</td>\n",
              "      <td>-1.0</td>\n",
              "      <td>-1.0</td>\n",
              "      <td>-1.0</td>\n",
              "      <td>-1.0</td>\n",
              "      <td>0.0</td>\n",
              "    </tr>\n",
              "    <tr>\n",
              "      <th>2</th>\n",
              "      <td>318</td>\n",
              "      <td>27213</td>\n",
              "      <td>1.0</td>\n",
              "      <td>20.0</td>\n",
              "      <td>11.0</td>\n",
              "      <td>12.0</td>\n",
              "      <td>4.0</td>\n",
              "      <td>1.0</td>\n",
              "      <td>1.0</td>\n",
              "      <td>11.0</td>\n",
              "      <td>...</td>\n",
              "      <td>12.0</td>\n",
              "      <td>27.0</td>\n",
              "      <td>0.0</td>\n",
              "      <td>0.0</td>\n",
              "      <td>0.0</td>\n",
              "      <td>0.0</td>\n",
              "      <td>-1.0</td>\n",
              "      <td>-1.0</td>\n",
              "      <td>-1.0</td>\n",
              "      <td>0.0</td>\n",
              "    </tr>\n",
              "    <tr>\n",
              "      <th>3</th>\n",
              "      <td>1768</td>\n",
              "      <td>19949</td>\n",
              "      <td>5.0</td>\n",
              "      <td>2.0</td>\n",
              "      <td>1.0</td>\n",
              "      <td>1.0</td>\n",
              "      <td>55.0</td>\n",
              "      <td>1.0</td>\n",
              "      <td>1.0</td>\n",
              "      <td>34.0</td>\n",
              "      <td>...</td>\n",
              "      <td>14.0</td>\n",
              "      <td>2.0</td>\n",
              "      <td>0.0</td>\n",
              "      <td>0.0</td>\n",
              "      <td>0.0</td>\n",
              "      <td>0.0</td>\n",
              "      <td>-1.0</td>\n",
              "      <td>-1.0</td>\n",
              "      <td>-1.0</td>\n",
              "      <td>0.0</td>\n",
              "    </tr>\n",
              "    <tr>\n",
              "      <th>4</th>\n",
              "      <td>7</td>\n",
              "      <td>27439</td>\n",
              "      <td>1.0</td>\n",
              "      <td>1.0</td>\n",
              "      <td>12.0</td>\n",
              "      <td>9.0</td>\n",
              "      <td>8.0</td>\n",
              "      <td>1.0</td>\n",
              "      <td>3.0</td>\n",
              "      <td>12.0</td>\n",
              "      <td>...</td>\n",
              "      <td>7.0</td>\n",
              "      <td>1.0</td>\n",
              "      <td>-1.0</td>\n",
              "      <td>-1.0</td>\n",
              "      <td>-1.0</td>\n",
              "      <td>-1.0</td>\n",
              "      <td>-1.0</td>\n",
              "      <td>-1.0</td>\n",
              "      <td>-1.0</td>\n",
              "      <td>0.0</td>\n",
              "    </tr>\n",
              "  </tbody>\n",
              "</table>\n",
              "<p>5 rows × 44 columns</p>\n",
              "</div>\n",
              "    <div class=\"colab-df-buttons\">\n",
              "\n",
              "  <div class=\"colab-df-container\">\n",
              "    <button class=\"colab-df-convert\" onclick=\"convertToInteractive('df-9850b981-f39c-47f7-87f2-15fdf2772b80')\"\n",
              "            title=\"Convert this dataframe to an interactive table.\"\n",
              "            style=\"display:none;\">\n",
              "\n",
              "  <svg xmlns=\"http://www.w3.org/2000/svg\" height=\"24px\" viewBox=\"0 -960 960 960\">\n",
              "    <path d=\"M120-120v-720h720v720H120Zm60-500h600v-160H180v160Zm220 220h160v-160H400v160Zm0 220h160v-160H400v160ZM180-400h160v-160H180v160Zm440 0h160v-160H620v160ZM180-180h160v-160H180v160Zm440 0h160v-160H620v160Z\"/>\n",
              "  </svg>\n",
              "    </button>\n",
              "\n",
              "  <style>\n",
              "    .colab-df-container {\n",
              "      display:flex;\n",
              "      gap: 12px;\n",
              "    }\n",
              "\n",
              "    .colab-df-convert {\n",
              "      background-color: #E8F0FE;\n",
              "      border: none;\n",
              "      border-radius: 50%;\n",
              "      cursor: pointer;\n",
              "      display: none;\n",
              "      fill: #1967D2;\n",
              "      height: 32px;\n",
              "      padding: 0 0 0 0;\n",
              "      width: 32px;\n",
              "    }\n",
              "\n",
              "    .colab-df-convert:hover {\n",
              "      background-color: #E2EBFA;\n",
              "      box-shadow: 0px 1px 2px rgba(60, 64, 67, 0.3), 0px 1px 3px 1px rgba(60, 64, 67, 0.15);\n",
              "      fill: #174EA6;\n",
              "    }\n",
              "\n",
              "    .colab-df-buttons div {\n",
              "      margin-bottom: 4px;\n",
              "    }\n",
              "\n",
              "    [theme=dark] .colab-df-convert {\n",
              "      background-color: #3B4455;\n",
              "      fill: #D2E3FC;\n",
              "    }\n",
              "\n",
              "    [theme=dark] .colab-df-convert:hover {\n",
              "      background-color: #434B5C;\n",
              "      box-shadow: 0px 1px 3px 1px rgba(0, 0, 0, 0.15);\n",
              "      filter: drop-shadow(0px 1px 2px rgba(0, 0, 0, 0.3));\n",
              "      fill: #FFFFFF;\n",
              "    }\n",
              "  </style>\n",
              "\n",
              "    <script>\n",
              "      const buttonEl =\n",
              "        document.querySelector('#df-9850b981-f39c-47f7-87f2-15fdf2772b80 button.colab-df-convert');\n",
              "      buttonEl.style.display =\n",
              "        google.colab.kernel.accessAllowed ? 'block' : 'none';\n",
              "\n",
              "      async function convertToInteractive(key) {\n",
              "        const element = document.querySelector('#df-9850b981-f39c-47f7-87f2-15fdf2772b80');\n",
              "        const dataTable =\n",
              "          await google.colab.kernel.invokeFunction('convertToInteractive',\n",
              "                                                    [key], {});\n",
              "        if (!dataTable) return;\n",
              "\n",
              "        const docLinkHtml = 'Like what you see? Visit the ' +\n",
              "          '<a target=\"_blank\" href=https://colab.research.google.com/notebooks/data_table.ipynb>data table notebook</a>'\n",
              "          + ' to learn more about interactive tables.';\n",
              "        element.innerHTML = '';\n",
              "        dataTable['output_type'] = 'display_data';\n",
              "        await google.colab.output.renderOutput(dataTable, element);\n",
              "        const docLink = document.createElement('div');\n",
              "        docLink.innerHTML = docLinkHtml;\n",
              "        element.appendChild(docLink);\n",
              "      }\n",
              "    </script>\n",
              "  </div>\n",
              "\n",
              "\n",
              "<div id=\"df-c5244354-d0f8-4a4b-ac21-69c1352cf128\">\n",
              "  <button class=\"colab-df-quickchart\" onclick=\"quickchart('df-c5244354-d0f8-4a4b-ac21-69c1352cf128')\"\n",
              "            title=\"Suggest charts.\"\n",
              "            style=\"display:none;\">\n",
              "\n",
              "<svg xmlns=\"http://www.w3.org/2000/svg\" height=\"24px\"viewBox=\"0 0 24 24\"\n",
              "     width=\"24px\">\n",
              "    <g>\n",
              "        <path d=\"M19 3H5c-1.1 0-2 .9-2 2v14c0 1.1.9 2 2 2h14c1.1 0 2-.9 2-2V5c0-1.1-.9-2-2-2zM9 17H7v-7h2v7zm4 0h-2V7h2v10zm4 0h-2v-4h2v4z\"/>\n",
              "    </g>\n",
              "</svg>\n",
              "  </button>\n",
              "\n",
              "<style>\n",
              "  .colab-df-quickchart {\n",
              "      --bg-color: #E8F0FE;\n",
              "      --fill-color: #1967D2;\n",
              "      --hover-bg-color: #E2EBFA;\n",
              "      --hover-fill-color: #174EA6;\n",
              "      --disabled-fill-color: #AAA;\n",
              "      --disabled-bg-color: #DDD;\n",
              "  }\n",
              "\n",
              "  [theme=dark] .colab-df-quickchart {\n",
              "      --bg-color: #3B4455;\n",
              "      --fill-color: #D2E3FC;\n",
              "      --hover-bg-color: #434B5C;\n",
              "      --hover-fill-color: #FFFFFF;\n",
              "      --disabled-bg-color: #3B4455;\n",
              "      --disabled-fill-color: #666;\n",
              "  }\n",
              "\n",
              "  .colab-df-quickchart {\n",
              "    background-color: var(--bg-color);\n",
              "    border: none;\n",
              "    border-radius: 50%;\n",
              "    cursor: pointer;\n",
              "    display: none;\n",
              "    fill: var(--fill-color);\n",
              "    height: 32px;\n",
              "    padding: 0;\n",
              "    width: 32px;\n",
              "  }\n",
              "\n",
              "  .colab-df-quickchart:hover {\n",
              "    background-color: var(--hover-bg-color);\n",
              "    box-shadow: 0 1px 2px rgba(60, 64, 67, 0.3), 0 1px 3px 1px rgba(60, 64, 67, 0.15);\n",
              "    fill: var(--button-hover-fill-color);\n",
              "  }\n",
              "\n",
              "  .colab-df-quickchart-complete:disabled,\n",
              "  .colab-df-quickchart-complete:disabled:hover {\n",
              "    background-color: var(--disabled-bg-color);\n",
              "    fill: var(--disabled-fill-color);\n",
              "    box-shadow: none;\n",
              "  }\n",
              "\n",
              "  .colab-df-spinner {\n",
              "    border: 2px solid var(--fill-color);\n",
              "    border-color: transparent;\n",
              "    border-bottom-color: var(--fill-color);\n",
              "    animation:\n",
              "      spin 1s steps(1) infinite;\n",
              "  }\n",
              "\n",
              "  @keyframes spin {\n",
              "    0% {\n",
              "      border-color: transparent;\n",
              "      border-bottom-color: var(--fill-color);\n",
              "      border-left-color: var(--fill-color);\n",
              "    }\n",
              "    20% {\n",
              "      border-color: transparent;\n",
              "      border-left-color: var(--fill-color);\n",
              "      border-top-color: var(--fill-color);\n",
              "    }\n",
              "    30% {\n",
              "      border-color: transparent;\n",
              "      border-left-color: var(--fill-color);\n",
              "      border-top-color: var(--fill-color);\n",
              "      border-right-color: var(--fill-color);\n",
              "    }\n",
              "    40% {\n",
              "      border-color: transparent;\n",
              "      border-right-color: var(--fill-color);\n",
              "      border-top-color: var(--fill-color);\n",
              "    }\n",
              "    60% {\n",
              "      border-color: transparent;\n",
              "      border-right-color: var(--fill-color);\n",
              "    }\n",
              "    80% {\n",
              "      border-color: transparent;\n",
              "      border-right-color: var(--fill-color);\n",
              "      border-bottom-color: var(--fill-color);\n",
              "    }\n",
              "    90% {\n",
              "      border-color: transparent;\n",
              "      border-bottom-color: var(--fill-color);\n",
              "    }\n",
              "  }\n",
              "</style>\n",
              "\n",
              "  <script>\n",
              "    async function quickchart(key) {\n",
              "      const quickchartButtonEl =\n",
              "        document.querySelector('#' + key + ' button');\n",
              "      quickchartButtonEl.disabled = true;  // To prevent multiple clicks.\n",
              "      quickchartButtonEl.classList.add('colab-df-spinner');\n",
              "      try {\n",
              "        const charts = await google.colab.kernel.invokeFunction(\n",
              "            'suggestCharts', [key], {});\n",
              "      } catch (error) {\n",
              "        console.error('Error during call to suggestCharts:', error);\n",
              "      }\n",
              "      quickchartButtonEl.classList.remove('colab-df-spinner');\n",
              "      quickchartButtonEl.classList.add('colab-df-quickchart-complete');\n",
              "    }\n",
              "    (() => {\n",
              "      let quickchartButtonEl =\n",
              "        document.querySelector('#df-c5244354-d0f8-4a4b-ac21-69c1352cf128 button');\n",
              "      quickchartButtonEl.style.display =\n",
              "        google.colab.kernel.accessAllowed ? 'block' : 'none';\n",
              "    })();\n",
              "  </script>\n",
              "</div>\n",
              "    </div>\n",
              "  </div>\n"
            ]
          },
          "metadata": {},
          "execution_count": 2
        }
      ]
    },
    {
      "cell_type": "code",
      "source": [
        "sns.histplot(data['y']);"
      ],
      "metadata": {
        "colab": {
          "base_uri": "https://localhost:8080/",
          "height": 449
        },
        "id": "CP679J9FKV1G",
        "outputId": "2824c8d7-f3f5-44b6-9ef1-c1de42cf254b"
      },
      "execution_count": 53,
      "outputs": [
        {
          "output_type": "display_data",
          "data": {
            "text/plain": [
              "<Figure size 640x480 with 1 Axes>"
            ],
            "image/png": "[encoded data removed]"
          },
          "metadata": {}
        }
      ]
    },
    {
      "cell_type": "markdown",
      "source": [
        "Нам нужно применить `shuffle`, т.к. очень сильно разнится кол-во значений"
      ],
      "metadata": {
        "id": "NG-R9u4wKbhG"
      }
    },
    {
      "cell_type": "markdown",
      "source": [
        "## Слишком много columns, наверное многие из них - лишние"
      ],
      "metadata": {
        "id": "wnAgTUssHATd"
      }
    },
    {
      "cell_type": "code",
      "source": [
        "len(data.columns)"
      ],
      "metadata": {
        "colab": {
          "base_uri": "https://localhost:8080/"
        },
        "id": "P_v6ghwCCMQI",
        "outputId": "efd165dc-0982-4ed5-8019-2b289815c060"
      },
      "execution_count": 3,
      "outputs": [
        {
          "output_type": "execute_result",
          "data": {
            "text/plain": [
              "44"
            ]
          },
          "metadata": {},
          "execution_count": 3
        }
      ]
    },
    {
      "cell_type": "code",
      "source": [
        "data.columns"
      ],
      "metadata": {
        "colab": {
          "base_uri": "https://localhost:8080/"
        },
        "id": "N0KHCtPFC5hB",
        "outputId": "09ecf73c-265c-427d-bb8e-ce98eb6d8918"
      },
      "execution_count": 4,
      "outputs": [
        {
          "output_type": "execute_result",
          "data": {
            "text/plain": [
              "Index(['Поставщик', 'Материал', 'Категорийный менеджер',\n",
              "       'Операционный менеджер', 'Завод', 'Закупочная организация',\n",
              "       'Группа закупок', 'Балансовая единица', 'ЕИ', 'Группа материалов',\n",
              "       'Вариант поставки', 'НРП', 'Длительность', 'До поставки', 'Месяц1',\n",
              "       'Месяц2', 'Месяц3', 'День недели 2', 'Сумма', 'Количество позиций',\n",
              "       'Количество', 'Количество обработчиков 7', 'Количество обработчиков 15',\n",
              "       'Количество обработчиков 30', 'Согласование заказа 1',\n",
              "       'Согласование заказа 2', 'Согласование заказа 3',\n",
              "       'Изменение даты поставки 7', 'Изменение даты поставки 15',\n",
              "       'Изменение даты поставки 30',\n",
              "       'Отмена полного деблокирования заказа на закупку',\n",
              "       'Изменение позиции заказа на закупку: изменение даты поставки на бумаге',\n",
              "       'Изменение позиции заказа на закупку: дата поставки',\n",
              "       'Количество циклов согласования',\n",
              "       'Количество изменений после согласований', 'Дней между 0_1',\n",
              "       'Дней между 1_2', 'Дней между 2_3', 'Дней между 3_4', 'Дней между 4_5',\n",
              "       'Дней между 5_6', 'Дней между 6_7', 'Дней между 7_8', 'y'],\n",
              "      dtype='object')"
            ]
          },
          "metadata": {},
          "execution_count": 4
        }
      ]
    },
    {
      "cell_type": "markdown",
      "source": [
        "## Корреляция между факторами и 'y'"
      ],
      "metadata": {
        "id": "AZbsaofLHHaA"
      }
    },
    {
      "cell_type": "code",
      "source": [
        "data.corr()['y']"
      ],
      "metadata": {
        "colab": {
          "base_uri": "https://localhost:8080/"
        },
        "id": "ip0_R0EvC7cA",
        "outputId": "64bc1365-6061-4bf8-a7af-3ecb2afa41d0"
      },
      "execution_count": 11,
      "outputs": [
        {
          "output_type": "execute_result",
          "data": {
            "text/plain": [
              "Поставщик                                                                 0.064366\n",
              "Материал                                                                  0.050751\n",
              "Категорийный менеджер                                                    -0.006624\n",
              "Операционный менеджер                                                    -0.034955\n",
              "Завод                                                                     0.067366\n",
              "Закупочная организация                                                    0.088046\n",
              "Группа закупок                                                            0.037139\n",
              "Балансовая единица                                                        0.067208\n",
              "ЕИ                                                                        0.061415\n",
              "Группа материалов                                                         0.028801\n",
              "Вариант поставки                                                          0.049242\n",
              "НРП                                                                       0.025258\n",
              "Длительность                                                             -0.094121\n",
              "До поставки                                                              -0.009066\n",
              "Месяц1                                                                   -0.034471\n",
              "Месяц2                                                                   -0.046196\n",
              "Месяц3                                                                   -0.033036\n",
              "День недели 2                                                            -0.000807\n",
              "Сумма                                                                     0.113534\n",
              "Количество позиций                                                       -0.014184\n",
              "Количество                                                                0.000090\n",
              "Количество обработчиков 7                                                 0.112452\n",
              "Количество обработчиков 15                                                0.112058\n",
              "Количество обработчиков 30                                                0.112935\n",
              "Согласование заказа 1                                                    -0.018493\n",
              "Согласование заказа 2                                                    -0.015207\n",
              "Согласование заказа 3                                                    -0.018268\n",
              "Изменение даты поставки 7                                                 0.011773\n",
              "Изменение даты поставки 15                                                0.011784\n",
              "Изменение даты поставки 30                                                0.011762\n",
              "Отмена полного деблокирования заказа на закупку                           0.006481\n",
              "Изменение позиции заказа на закупку: изменение даты поставки на бумаге   -0.002410\n",
              "Изменение позиции заказа на закупку: дата поставки                        0.012709\n",
              "Количество циклов согласования                                           -0.017195\n",
              "Количество изменений после согласований                                   0.028674\n",
              "Дней между 0_1                                                            0.010494\n",
              "Дней между 1_2                                                           -0.017272\n",
              "Дней между 2_3                                                            0.013864\n",
              "Дней между 3_4                                                           -0.010567\n",
              "Дней между 4_5                                                           -0.008049\n",
              "Дней между 5_6                                                            0.006200\n",
              "Дней между 6_7                                                           -0.007045\n",
              "Дней между 7_8                                                            0.004865\n",
              "y                                                                         1.000000\n",
              "Name: y, dtype: float64"
            ]
          },
          "metadata": {},
          "execution_count": 11
        }
      ]
    },
    {
      "cell_type": "code",
      "source": [
        "mean_corr = data.corr()['y'].mean()\n",
        "mean_corr"
      ],
      "metadata": {
        "colab": {
          "base_uri": "https://localhost:8080/"
        },
        "id": "Oz71k_YsDAbJ",
        "outputId": "e73a279f-a9aa-402f-fb6e-39a29dfdd685"
      },
      "execution_count": 14,
      "outputs": [
        {
          "output_type": "execute_result",
          "data": {
            "text/plain": [
              "0.039120482072934164"
            ]
          },
          "metadata": {},
          "execution_count": 14
        }
      ]
    },
    {
      "cell_type": "code",
      "source": [
        "corr = data.corr()['y']\n",
        "corr = corr[(corr >= mean_corr) | (corr <= -mean_corr)]\n",
        "corr"
      ],
      "metadata": {
        "colab": {
          "base_uri": "https://localhost:8080/"
        },
        "id": "_hl021fLDlc6",
        "outputId": "34673e01-fa8c-471b-b206-9d2da9b63229"
      },
      "execution_count": 21,
      "outputs": [
        {
          "output_type": "execute_result",
          "data": {
            "text/plain": [
              "Поставщик                     0.064366\n",
              "Материал                      0.050751\n",
              "Завод                         0.067366\n",
              "Закупочная организация        0.088046\n",
              "Балансовая единица            0.067208\n",
              "ЕИ                            0.061415\n",
              "Вариант поставки              0.049242\n",
              "Длительность                 -0.094121\n",
              "Месяц2                       -0.046196\n",
              "Сумма                         0.113534\n",
              "Количество обработчиков 7     0.112452\n",
              "Количество обработчиков 15    0.112058\n",
              "Количество обработчиков 30    0.112935\n",
              "y                             1.000000\n",
              "Name: y, dtype: float64"
            ]
          },
          "metadata": {},
          "execution_count": 21
        }
      ]
    },
    {
      "cell_type": "markdown",
      "source": [
        "## Снизу находятся корреляции, которые нас интересуют, так как они по значению больше *(или меньше)*, чем среднее между всеми корреляцифями факторов"
      ],
      "metadata": {
        "id": "lyK_YN4KHNtI"
      }
    },
    {
      "cell_type": "code",
      "source": [
        "corr[:len(corr)-1]"
      ],
      "metadata": {
        "colab": {
          "base_uri": "https://localhost:8080/"
        },
        "id": "QUyicMwrDthD",
        "outputId": "05b27807-ccdf-4b4f-fbeb-8a009414c93a"
      },
      "execution_count": 27,
      "outputs": [
        {
          "output_type": "execute_result",
          "data": {
            "text/plain": [
              "Поставщик                     0.064366\n",
              "Материал                      0.050751\n",
              "Завод                         0.067366\n",
              "Закупочная организация        0.088046\n",
              "Балансовая единица            0.067208\n",
              "ЕИ                            0.061415\n",
              "Вариант поставки              0.049242\n",
              "Длительность                 -0.094121\n",
              "Месяц2                       -0.046196\n",
              "Сумма                         0.113534\n",
              "Количество обработчиков 7     0.112452\n",
              "Количество обработчиков 15    0.112058\n",
              "Количество обработчиков 30    0.112935\n",
              "Name: y, dtype: float64"
            ]
          },
          "metadata": {},
          "execution_count": 27
        }
      ]
    },
    {
      "cell_type": "code",
      "source": [
        "corr[:len(corr)-1].max()"
      ],
      "metadata": {
        "colab": {
          "base_uri": "https://localhost:8080/"
        },
        "id": "lIw4UGvSERYr",
        "outputId": "a29e7811-9fa8-4595-859d-ad501bf71c2b"
      },
      "execution_count": 28,
      "outputs": [
        {
          "output_type": "execute_result",
          "data": {
            "text/plain": [
              "0.11353351073674493"
            ]
          },
          "metadata": {},
          "execution_count": 28
        }
      ]
    },
    {
      "cell_type": "code",
      "source": [
        "sns.scatterplot(data=data, x='Сумма', y='y');"
      ],
      "metadata": {
        "colab": {
          "base_uri": "https://localhost:8080/",
          "height": 449
        },
        "id": "tnOHxQtqEnvC",
        "outputId": "7e6cd726-ab3d-4c00-eb87-6a498a72093d"
      },
      "execution_count": 32,
      "outputs": [
        {
          "output_type": "display_data",
          "data": {
            "text/plain": [
              "<Figure size 640x480 with 1 Axes>"
            ],
            "image/png": "[encoded data removed]"
          },
          "metadata": {}
        }
      ]
    },
    {
      "cell_type": "code",
      "source": [
        "corr.index"
      ],
      "metadata": {
        "colab": {
          "base_uri": "https://localhost:8080/"
        },
        "id": "PODhMQQBFSoE",
        "outputId": "5716d116-389f-4636-8824-7b0dab65d677"
      },
      "execution_count": 38,
      "outputs": [
        {
          "output_type": "execute_result",
          "data": {
            "text/plain": [
              "Index(['Поставщик', 'Материал', 'Завод', 'Закупочная организация',\n",
              "       'Балансовая единица', 'ЕИ', 'Вариант поставки', 'Длительность',\n",
              "       'Месяц2', 'Сумма', 'Количество обработчиков 7',\n",
              "       'Количество обработчиков 15', 'Количество обработчиков 30', 'y'],\n",
              "      dtype='object')"
            ]
          },
          "metadata": {},
          "execution_count": 38
        }
      ]
    },
    {
      "cell_type": "code",
      "source": [
        "len(corr.index)"
      ],
      "metadata": {
        "colab": {
          "base_uri": "https://localhost:8080/"
        },
        "id": "0wp7q-v1GyLG",
        "outputId": "47fa3c1b-3118-4c8f-8fe8-2ca9a11bcfb0"
      },
      "execution_count": 47,
      "outputs": [
        {
          "output_type": "execute_result",
          "data": {
            "text/plain": [
              "14"
            ]
          },
          "metadata": {},
          "execution_count": 47
        }
      ]
    },
    {
      "cell_type": "markdown",
      "source": [
        "## Снизу - датафрейм, с которым мы будем работать далее. Что с ним можно сделать?\n",
        "\n",
        "___\n",
        "\n",
        "- Во-первых, нам следует убрать `NaN` значения, скорее всего вставляя средние *(или максимально-частоповторяющиеся)* значения, чтобы не похерить точность модели\n",
        "\n",
        "- Во-вторых, т.к. все данные уже числовые, нам не стоит делать любую ~кодировку~\n",
        "\n",
        "- В-третьих, применить `minMaxScaler`, дабы нормализовать значения и упростить задачу для модели МО\n",
        "\n",
        "- В-четвертых, подобрать модель МО и подобрать гипер- и обычные параметры для модели МО. **МОЖЕТ БЫТЬ**, использовать нейронные сети."
      ],
      "metadata": {
        "id": "pQIKHohaHetl"
      }
    },
    {
      "cell_type": "markdown",
      "source": [
        "## 1. Займемся уборкой и уберем `NaN` значения"
      ],
      "metadata": {
        "id": "-_Rpg6iJIzyJ"
      }
    },
    {
      "cell_type": "code",
      "source": [
        "X_y = data[corr.index]\n",
        "X_y"
      ],
      "metadata": {
        "colab": {
          "base_uri": "https://localhost:8080/",
          "height": 441
        },
        "id": "0Lz_-76bGBt-",
        "outputId": "e337fe6f-6c55-476a-e64b-4bebd4d4e2a7"
      },
      "execution_count": 46,
      "outputs": [
        {
          "output_type": "execute_result",
          "data": {
            "text/plain": [
              "       Поставщик  Материал  Завод  Закупочная организация  Балансовая единица  \\\n",
              "0            606      7448    1.0                     1.0                 1.0   \n",
              "1              7     27439   21.0                    15.0                12.0   \n",
              "2            318     27213   11.0                    12.0                 1.0   \n",
              "3           1768     19949    1.0                     1.0                 1.0   \n",
              "4              7     27439   12.0                     9.0                 1.0   \n",
              "...          ...       ...    ...                     ...                 ...   \n",
              "56550          2     12690    2.0                     2.0                 2.0   \n",
              "56551        674     21997    6.0                     5.0                 5.0   \n",
              "56552          4      4060    1.0                     1.0                 1.0   \n",
              "56553          4       491    1.0                     1.0                 1.0   \n",
              "56554          3      3266    NaN                     NaN                 NaN   \n",
              "\n",
              "        ЕИ  Вариант поставки  Длительность  Месяц2     Сумма  \\\n",
              "0      1.0               1.0         190.0     4.0  6.740725   \n",
              "1      3.0               2.0          17.0     9.0  7.876672   \n",
              "2      1.0               2.0          67.0     7.0  5.029520   \n",
              "3      1.0               1.0          83.0     2.0  5.987879   \n",
              "4      3.0               2.0          21.0    12.0  7.839027   \n",
              "...    ...               ...           ...     ...       ...   \n",
              "56550  1.0               2.0          43.0     3.0  5.138864   \n",
              "56551  2.0               2.0          90.0     4.0  4.889430   \n",
              "56552  1.0               2.0          32.0     1.0  2.395721   \n",
              "56553  2.0               2.0          82.0     1.0  4.043601   \n",
              "56554  NaN               NaN           NaN     NaN       NaN   \n",
              "\n",
              "       Количество обработчиков 7  Количество обработчиков 15  \\\n",
              "0                            4.0                         4.0   \n",
              "1                            6.0                         7.0   \n",
              "2                            5.0                         5.0   \n",
              "3                            7.0                         7.0   \n",
              "4                            2.0                         2.0   \n",
              "...                          ...                         ...   \n",
              "56550                        7.0                         7.0   \n",
              "56551                        5.0                         5.0   \n",
              "56552                        7.0                         7.0   \n",
              "56553                        8.0                         8.0   \n",
              "56554                        NaN                         NaN   \n",
              "\n",
              "       Количество обработчиков 30    y  \n",
              "0                             4.0  1.0  \n",
              "1                             7.0  0.0  \n",
              "2                             6.0  0.0  \n",
              "3                             7.0  0.0  \n",
              "4                             2.0  0.0  \n",
              "...                           ...  ...  \n",
              "56550                         7.0  0.0  \n",
              "56551                         5.0  0.0  \n",
              "56552                         7.0  0.0  \n",
              "56553                         9.0  0.0  \n",
              "56554                         NaN  NaN  \n",
              "\n",
              "[56555 rows x 14 columns]"
            ],
            "text/html": [
              "\n",
              "  <div id=\"df-f3b1eef4-4ed8-4a62-af14-a0b5748de34f\" class=\"colab-df-container\">\n",
              "    <div>\n",
              "<style scoped>\n",
              "    .dataframe tbody tr th:only-of-type {\n",
              "        vertical-align: middle;\n",
              "    }\n",
              "\n",
              "    .dataframe tbody tr th {\n",
              "        vertical-align: top;\n",
              "    }\n",
              "\n",
              "    .dataframe thead th {\n",
              "        text-align: right;\n",
              "    }\n",
              "</style>\n",
              "<table border=\"1\" class=\"dataframe\">\n",
              "  <thead>\n",
              "    <tr style=\"text-align: right;\">\n",
              "      <th></th>\n",
              "      <th>Поставщик</th>\n",
              "      <th>Материал</th>\n",
              "      <th>Завод</th>\n",
              "      <th>Закупочная организация</th>\n",
              "      <th>Балансовая единица</th>\n",
              "      <th>ЕИ</th>\n",
              "      <th>Вариант поставки</th>\n",
              "      <th>Длительность</th>\n",
              "      <th>Месяц2</th>\n",
              "      <th>Сумма</th>\n",
              "      <th>Количество обработчиков 7</th>\n",
              "      <th>Количество обработчиков 15</th>\n",
              "      <th>Количество обработчиков 30</th>\n",
              "      <th>y</th>\n",
              "    </tr>\n",
              "  </thead>\n",
              "  <tbody>\n",
              "    <tr>\n",
              "      <th>0</th>\n",
              "      <td>606</td>\n",
              "      <td>7448</td>\n",
              "      <td>1.0</td>\n",
              "      <td>1.0</td>\n",
              "      <td>1.0</td>\n",
              "      <td>1.0</td>\n",
              "      <td>1.0</td>\n",
              "      <td>190.0</td>\n",
              "      <td>4.0</td>\n",
              "      <td>6.740725</td>\n",
              "      <td>4.0</td>\n",
              "      <td>4.0</td>\n",
              "      <td>4.0</td>\n",
              "      <td>1.0</td>\n",
              "    </tr>\n",
              "    <tr>\n",
              "      <th>1</th>\n",
              "      <td>7</td>\n",
              "      <td>27439</td>\n",
              "      <td>21.0</td>\n",
              "      <td>15.0</td>\n",
              "      <td>12.0</td>\n",
              "      <td>3.0</td>\n",
              "      <td>2.0</td>\n",
              "      <td>17.0</td>\n",
              "      <td>9.0</td>\n",
              "      <td>7.876672</td>\n",
              "      <td>6.0</td>\n",
              "      <td>7.0</td>\n",
              "      <td>7.0</td>\n",
              "      <td>0.0</td>\n",
              "    </tr>\n",
              "    <tr>\n",
              "      <th>2</th>\n",
              "      <td>318</td>\n",
              "      <td>27213</td>\n",
              "      <td>11.0</td>\n",
              "      <td>12.0</td>\n",
              "      <td>1.0</td>\n",
              "      <td>1.0</td>\n",
              "      <td>2.0</td>\n",
              "      <td>67.0</td>\n",
              "      <td>7.0</td>\n",
              "      <td>5.029520</td>\n",
              "      <td>5.0</td>\n",
              "      <td>5.0</td>\n",
              "      <td>6.0</td>\n",
              "      <td>0.0</td>\n",
              "    </tr>\n",
              "    <tr>\n",
              "      <th>3</th>\n",
              "      <td>1768</td>\n",
              "      <td>19949</td>\n",
              "      <td>1.0</td>\n",
              "      <td>1.0</td>\n",
              "      <td>1.0</td>\n",
              "      <td>1.0</td>\n",
              "      <td>1.0</td>\n",
              "      <td>83.0</td>\n",
              "      <td>2.0</td>\n",
              "      <td>5.987879</td>\n",
              "      <td>7.0</td>\n",
              "      <td>7.0</td>\n",
              "      <td>7.0</td>\n",
              "      <td>0.0</td>\n",
              "    </tr>\n",
              "    <tr>\n",
              "      <th>4</th>\n",
              "      <td>7</td>\n",
              "      <td>27439</td>\n",
              "      <td>12.0</td>\n",
              "      <td>9.0</td>\n",
              "      <td>1.0</td>\n",
              "      <td>3.0</td>\n",
              "      <td>2.0</td>\n",
              "      <td>21.0</td>\n",
              "      <td>12.0</td>\n",
              "      <td>7.839027</td>\n",
              "      <td>2.0</td>\n",
              "      <td>2.0</td>\n",
              "      <td>2.0</td>\n",
              "      <td>0.0</td>\n",
              "    </tr>\n",
              "    <tr>\n",
              "      <th>...</th>\n",
              "      <td>...</td>\n",
              "      <td>...</td>\n",
              "      <td>...</td>\n",
              "      <td>...</td>\n",
              "      <td>...</td>\n",
              "      <td>...</td>\n",
              "      <td>...</td>\n",
              "      <td>...</td>\n",
              "      <td>...</td>\n",
              "      <td>...</td>\n",
              "      <td>...</td>\n",
              "      <td>...</td>\n",
              "      <td>...</td>\n",
              "      <td>...</td>\n",
              "    </tr>\n",
              "    <tr>\n",
              "      <th>56550</th>\n",
              "      <td>2</td>\n",
              "      <td>12690</td>\n",
              "      <td>2.0</td>\n",
              "      <td>2.0</td>\n",
              "      <td>2.0</td>\n",
              "      <td>1.0</td>\n",
              "      <td>2.0</td>\n",
              "      <td>43.0</td>\n",
              "      <td>3.0</td>\n",
              "      <td>5.138864</td>\n",
              "      <td>7.0</td>\n",
              "      <td>7.0</td>\n",
              "      <td>7.0</td>\n",
              "      <td>0.0</td>\n",
              "    </tr>\n",
              "    <tr>\n",
              "      <th>56551</th>\n",
              "      <td>674</td>\n",
              "      <td>21997</td>\n",
              "      <td>6.0</td>\n",
              "      <td>5.0</td>\n",
              "      <td>5.0</td>\n",
              "      <td>2.0</td>\n",
              "      <td>2.0</td>\n",
              "      <td>90.0</td>\n",
              "      <td>4.0</td>\n",
              "      <td>4.889430</td>\n",
              "      <td>5.0</td>\n",
              "      <td>5.0</td>\n",
              "      <td>5.0</td>\n",
              "      <td>0.0</td>\n",
              "    </tr>\n",
              "    <tr>\n",
              "      <th>56552</th>\n",
              "      <td>4</td>\n",
              "      <td>4060</td>\n",
              "      <td>1.0</td>\n",
              "      <td>1.0</td>\n",
              "      <td>1.0</td>\n",
              "      <td>1.0</td>\n",
              "      <td>2.0</td>\n",
              "      <td>32.0</td>\n",
              "      <td>1.0</td>\n",
              "      <td>2.395721</td>\n",
              "      <td>7.0</td>\n",
              "      <td>7.0</td>\n",
              "      <td>7.0</td>\n",
              "      <td>0.0</td>\n",
              "    </tr>\n",
              "    <tr>\n",
              "      <th>56553</th>\n",
              "      <td>4</td>\n",
              "      <td>491</td>\n",
              "      <td>1.0</td>\n",
              "      <td>1.0</td>\n",
              "      <td>1.0</td>\n",
              "      <td>2.0</td>\n",
              "      <td>2.0</td>\n",
              "      <td>82.0</td>\n",
              "      <td>1.0</td>\n",
              "      <td>4.043601</td>\n",
              "      <td>8.0</td>\n",
              "      <td>8.0</td>\n",
              "      <td>9.0</td>\n",
              "      <td>0.0</td>\n",
              "    </tr>\n",
              "    <tr>\n",
              "      <th>56554</th>\n",
              "      <td>3</td>\n",
              "      <td>3266</td>\n",
              "      <td>NaN</td>\n",
              "      <td>NaN</td>\n",
              "      <td>NaN</td>\n",
              "      <td>NaN</td>\n",
              "      <td>NaN</td>\n",
              "      <td>NaN</td>\n",
              "      <td>NaN</td>\n",
              "      <td>NaN</td>\n",
              "      <td>NaN</td>\n",
              "      <td>NaN</td>\n",
              "      <td>NaN</td>\n",
              "      <td>NaN</td>\n",
              "    </tr>\n",
              "  </tbody>\n",
              "</table>\n",
              "<p>56555 rows × 14 columns</p>\n",
              "</div>\n",
              "    <div class=\"colab-df-buttons\">\n",
              "\n",
              "  <div class=\"colab-df-container\">\n",
              "    <button class=\"colab-df-convert\" onclick=\"convertToInteractive('df-f3b1eef4-4ed8-4a62-af14-a0b5748de34f')\"\n",
              "            title=\"Convert this dataframe to an interactive table.\"\n",
              "            style=\"display:none;\">\n",
              "\n",
              "  <svg xmlns=\"http://www.w3.org/2000/svg\" height=\"24px\" viewBox=\"0 -960 960 960\">\n",
              "    <path d=\"M120-120v-720h720v720H120Zm60-500h600v-160H180v160Zm220 220h160v-160H400v160Zm0 220h160v-160H400v160ZM180-400h160v-160H180v160Zm440 0h160v-160H620v160ZM180-180h160v-160H180v160Zm440 0h160v-160H620v160Z\"/>\n",
              "  </svg>\n",
              "    </button>\n",
              "\n",
              "  <style>\n",
              "    .colab-df-container {\n",
              "      display:flex;\n",
              "      gap: 12px;\n",
              "    }\n",
              "\n",
              "    .colab-df-convert {\n",
              "      background-color: #E8F0FE;\n",
              "      border: none;\n",
              "      border-radius: 50%;\n",
              "      cursor: pointer;\n",
              "      display: none;\n",
              "      fill: #1967D2;\n",
              "      height: 32px;\n",
              "      padding: 0 0 0 0;\n",
              "      width: 32px;\n",
              "    }\n",
              "\n",
              "    .colab-df-convert:hover {\n",
              "      background-color: #E2EBFA;\n",
              "      box-shadow: 0px 1px 2px rgba(60, 64, 67, 0.3), 0px 1px 3px 1px rgba(60, 64, 67, 0.15);\n",
              "      fill: #174EA6;\n",
              "    }\n",
              "\n",
              "    .colab-df-buttons div {\n",
              "      margin-bottom: 4px;\n",
              "    }\n",
              "\n",
              "    [theme=dark] .colab-df-convert {\n",
              "      background-color: #3B4455;\n",
              "      fill: #D2E3FC;\n",
              "    }\n",
              "\n",
              "    [theme=dark] .colab-df-convert:hover {\n",
              "      background-color: #434B5C;\n",
              "      box-shadow: 0px 1px 3px 1px rgba(0, 0, 0, 0.15);\n",
              "      filter: drop-shadow(0px 1px 2px rgba(0, 0, 0, 0.3));\n",
              "      fill: #FFFFFF;\n",
              "    }\n",
              "  </style>\n",
              "\n",
              "    <script>\n",
              "      const buttonEl =\n",
              "        document.querySelector('#df-f3b1eef4-4ed8-4a62-af14-a0b5748de34f button.colab-df-convert');\n",
              "      buttonEl.style.display =\n",
              "        google.colab.kernel.accessAllowed ? 'block' : 'none';\n",
              "\n",
              "      async function convertToInteractive(key) {\n",
              "        const element = document.querySelector('#df-f3b1eef4-4ed8-4a62-af14-a0b5748de34f');\n",
              "        const dataTable =\n",
              "          await google.colab.kernel.invokeFunction('convertToInteractive',\n",
              "                                                    [key], {});\n",
              "        if (!dataTable) return;\n",
              "\n",
              "        const docLinkHtml = 'Like what you see? Visit the ' +\n",
              "          '<a target=\"_blank\" href=https://colab.research.google.com/notebooks/data_table.ipynb>data table notebook</a>'\n",
              "          + ' to learn more about interactive tables.';\n",
              "        element.innerHTML = '';\n",
              "        dataTable['output_type'] = 'display_data';\n",
              "        await google.colab.output.renderOutput(dataTable, element);\n",
              "        const docLink = document.createElement('div');\n",
              "        docLink.innerHTML = docLinkHtml;\n",
              "        element.appendChild(docLink);\n",
              "      }\n",
              "    </script>\n",
              "  </div>\n",
              "\n",
              "\n",
              "<div id=\"df-d7769295-f502-42a7-a6f3-f02438bede27\">\n",
              "  <button class=\"colab-df-quickchart\" onclick=\"quickchart('df-d7769295-f502-42a7-a6f3-f02438bede27')\"\n",
              "            title=\"Suggest charts.\"\n",
              "            style=\"display:none;\">\n",
              "\n",
              "<svg xmlns=\"http://www.w3.org/2000/svg\" height=\"24px\"viewBox=\"0 0 24 24\"\n",
              "     width=\"24px\">\n",
              "    <g>\n",
              "        <path d=\"M19 3H5c-1.1 0-2 .9-2 2v14c0 1.1.9 2 2 2h14c1.1 0 2-.9 2-2V5c0-1.1-.9-2-2-2zM9 17H7v-7h2v7zm4 0h-2V7h2v10zm4 0h-2v-4h2v4z\"/>\n",
              "    </g>\n",
              "</svg>\n",
              "  </button>\n",
              "\n",
              "<style>\n",
              "  .colab-df-quickchart {\n",
              "      --bg-color: #E8F0FE;\n",
              "      --fill-color: #1967D2;\n",
              "      --hover-bg-color: #E2EBFA;\n",
              "      --hover-fill-color: #174EA6;\n",
              "      --disabled-fill-color: #AAA;\n",
              "      --disabled-bg-color: #DDD;\n",
              "  }\n",
              "\n",
              "  [theme=dark] .colab-df-quickchart {\n",
              "      --bg-color: #3B4455;\n",
              "      --fill-color: #D2E3FC;\n",
              "      --hover-bg-color: #434B5C;\n",
              "      --hover-fill-color: #FFFFFF;\n",
              "      --disabled-bg-color: #3B4455;\n",
              "      --disabled-fill-color: #666;\n",
              "  }\n",
              "\n",
              "  .colab-df-quickchart {\n",
              "    background-color: var(--bg-color);\n",
              "    border: none;\n",
              "    border-radius: 50%;\n",
              "    cursor: pointer;\n",
              "    display: none;\n",
              "    fill: var(--fill-color);\n",
              "    height: 32px;\n",
              "    padding: 0;\n",
              "    width: 32px;\n",
              "  }\n",
              "\n",
              "  .colab-df-quickchart:hover {\n",
              "    background-color: var(--hover-bg-color);\n",
              "    box-shadow: 0 1px 2px rgba(60, 64, 67, 0.3), 0 1px 3px 1px rgba(60, 64, 67, 0.15);\n",
              "    fill: var(--button-hover-fill-color);\n",
              "  }\n",
              "\n",
              "  .colab-df-quickchart-complete:disabled,\n",
              "  .colab-df-quickchart-complete:disabled:hover {\n",
              "    background-color: var(--disabled-bg-color);\n",
              "    fill: var(--disabled-fill-color);\n",
              "    box-shadow: none;\n",
              "  }\n",
              "\n",
              "  .colab-df-spinner {\n",
              "    border: 2px solid var(--fill-color);\n",
              "    border-color: transparent;\n",
              "    border-bottom-color: var(--fill-color);\n",
              "    animation:\n",
              "      spin 1s steps(1) infinite;\n",
              "  }\n",
              "\n",
              "  @keyframes spin {\n",
              "    0% {\n",
              "      border-color: transparent;\n",
              "      border-bottom-color: var(--fill-color);\n",
              "      border-left-color: var(--fill-color);\n",
              "    }\n",
              "    20% {\n",
              "      border-color: transparent;\n",
              "      border-left-color: var(--fill-color);\n",
              "      border-top-color: var(--fill-color);\n",
              "    }\n",
              "    30% {\n",
              "      border-color: transparent;\n",
              "      border-left-color: var(--fill-color);\n",
              "      border-top-color: var(--fill-color);\n",
              "      border-right-color: var(--fill-color);\n",
              "    }\n",
              "    40% {\n",
              "      border-color: transparent;\n",
              "      border-right-color: var(--fill-color);\n",
              "      border-top-color: var(--fill-color);\n",
              "    }\n",
              "    60% {\n",
              "      border-color: transparent;\n",
              "      border-right-color: var(--fill-color);\n",
              "    }\n",
              "    80% {\n",
              "      border-color: transparent;\n",
              "      border-right-color: var(--fill-color);\n",
              "      border-bottom-color: var(--fill-color);\n",
              "    }\n",
              "    90% {\n",
              "      border-color: transparent;\n",
              "      border-bottom-color: var(--fill-color);\n",
              "    }\n",
              "  }\n",
              "</style>\n",
              "\n",
              "  <script>\n",
              "    async function quickchart(key) {\n",
              "      const quickchartButtonEl =\n",
              "        document.querySelector('#' + key + ' button');\n",
              "      quickchartButtonEl.disabled = true;  // To prevent multiple clicks.\n",
              "      quickchartButtonEl.classList.add('colab-df-spinner');\n",
              "      try {\n",
              "        const charts = await google.colab.kernel.invokeFunction(\n",
              "            'suggestCharts', [key], {});\n",
              "      } catch (error) {\n",
              "        console.error('Error during call to suggestCharts:', error);\n",
              "      }\n",
              "      quickchartButtonEl.classList.remove('colab-df-spinner');\n",
              "      quickchartButtonEl.classList.add('colab-df-quickchart-complete');\n",
              "    }\n",
              "    (() => {\n",
              "      let quickchartButtonEl =\n",
              "        document.querySelector('#df-d7769295-f502-42a7-a6f3-f02438bede27 button');\n",
              "      quickchartButtonEl.style.display =\n",
              "        google.colab.kernel.accessAllowed ? 'block' : 'none';\n",
              "    })();\n",
              "  </script>\n",
              "</div>\n",
              "    </div>\n",
              "  </div>\n"
            ]
          },
          "metadata": {},
          "execution_count": 46
        }
      ]
    },
    {
      "cell_type": "code",
      "source": [
        "X_y['Сумма'].mean()"
      ],
      "metadata": {
        "colab": {
          "base_uri": "https://localhost:8080/"
        },
        "id": "gXnnc78tGw5W",
        "outputId": "cebca929-1abc-4df5-dfb2-0800e50e03d9"
      },
      "execution_count": 51,
      "outputs": [
        {
          "output_type": "execute_result",
          "data": {
            "text/plain": [
              "6.031934413580152"
            ]
          },
          "metadata": {},
          "execution_count": 51
        }
      ]
    },
    {
      "cell_type": "code",
      "source": [
        "X_y.info()"
      ],
      "metadata": {
        "colab": {
          "base_uri": "https://localhost:8080/"
        },
        "id": "kjOvLfjCI9_Z",
        "outputId": "5adda731-46a3-4f9b-fd0f-ecfd03e6c1bd"
      },
      "execution_count": 61,
      "outputs": [
        {
          "output_type": "stream",
          "name": "stdout",
          "text": [
            "<class 'pandas.core.frame.DataFrame'>\n",
            "RangeIndex: 56555 entries, 0 to 56554\n",
            "Data columns (total 14 columns):\n",
            " #   Column                      Non-Null Count  Dtype  \n",
            "---  ------                      --------------  -----  \n",
            " 0   Поставщик                   56555 non-null  int64  \n",
            " 1   Материал                    56555 non-null  int64  \n",
            " 2   Завод                       56554 non-null  float64\n",
            " 3   Закупочная организация      56554 non-null  float64\n",
            " 4   Балансовая единица          56554 non-null  float64\n",
            " 5   ЕИ                          56554 non-null  float64\n",
            " 6   Вариант поставки            56554 non-null  float64\n",
            " 7   Длительность                56554 non-null  float64\n",
            " 8   Месяц2                      56554 non-null  float64\n",
            " 9   Сумма                       56554 non-null  float64\n",
            " 10  Количество обработчиков 7   56554 non-null  float64\n",
            " 11  Количество обработчиков 15  56554 non-null  float64\n",
            " 12  Количество обработчиков 30  56554 non-null  float64\n",
            " 13  y                           56554 non-null  float64\n",
            "dtypes: float64(12), int64(2)\n",
            "memory usage: 6.0 MB\n"
          ]
        }
      ]
    },
    {
      "cell_type": "code",
      "source": [
        "data_test = pd.read_csv('test_AIC.csv').info()"
      ],
      "metadata": {
        "colab": {
          "base_uri": "https://localhost:8080/"
        },
        "id": "XOEeJFvCK12C",
        "outputId": "546ce2ea-1067-4a99-bd7a-b9db019ade85"
      },
      "execution_count": 62,
      "outputs": [
        {
          "output_type": "stream",
          "name": "stdout",
          "text": [
            "<class 'pandas.core.frame.DataFrame'>\n",
            "RangeIndex: 25000 entries, 0 to 24999\n",
            "Data columns (total 43 columns):\n",
            " #   Column                                                                  Non-Null Count  Dtype  \n",
            "---  ------                                                                  --------------  -----  \n",
            " 0   Поставщик                                                               25000 non-null  int64  \n",
            " 1   Материал                                                                25000 non-null  int64  \n",
            " 2   Категорийный менеджер                                                   25000 non-null  int64  \n",
            " 3   Операционный менеджер                                                   25000 non-null  int64  \n",
            " 4   Завод                                                                   25000 non-null  int64  \n",
            " 5   Закупочная организация                                                  25000 non-null  int64  \n",
            " 6   Группа закупок                                                          25000 non-null  int64  \n",
            " 7   Балансовая единица                                                      25000 non-null  int64  \n",
            " 8   ЕИ                                                                      25000 non-null  int64  \n",
            " 9   Группа материалов                                                       25000 non-null  int64  \n",
            " 10  Вариант поставки                                                        25000 non-null  int64  \n",
            " 11  НРП                                                                     25000 non-null  float64\n",
            " 12  Длительность                                                            25000 non-null  int64  \n",
            " 13  До поставки                                                             25000 non-null  int64  \n",
            " 14  Месяц1                                                                  25000 non-null  int64  \n",
            " 15  Месяц2                                                                  25000 non-null  int64  \n",
            " 16  Месяц3                                                                  25000 non-null  int64  \n",
            " 17  День недели 2                                                           25000 non-null  int64  \n",
            " 18  Сумма                                                                   25000 non-null  float64\n",
            " 19  Количество позиций                                                      25000 non-null  int64  \n",
            " 20  Количество                                                              25000 non-null  float64\n",
            " 21  Количество обработчиков 7                                               25000 non-null  int64  \n",
            " 22  Количество обработчиков 15                                              25000 non-null  int64  \n",
            " 23  Количество обработчиков 30                                              25000 non-null  int64  \n",
            " 24  Согласование заказа 1                                                   25000 non-null  int64  \n",
            " 25  Согласование заказа 2                                                   25000 non-null  int64  \n",
            " 26  Согласование заказа 3                                                   25000 non-null  int64  \n",
            " 27  Изменение даты поставки 7                                               25000 non-null  float64\n",
            " 28  Изменение даты поставки 15                                              25000 non-null  float64\n",
            " 29  Изменение даты поставки 30                                              25000 non-null  float64\n",
            " 30  Отмена полного деблокирования заказа на закупку                         25000 non-null  int64  \n",
            " 31  Изменение позиции заказа на закупку: изменение даты поставки на бумаге  25000 non-null  int64  \n",
            " 32  Изменение позиции заказа на закупку: дата поставки                      25000 non-null  int64  \n",
            " 33  Количество циклов согласования                                          25000 non-null  float64\n",
            " 34  Количество изменений после согласований                                 25000 non-null  int64  \n",
            " 35  Дней между 0_1                                                          25000 non-null  float64\n",
            " 36  Дней между 1_2                                                          25000 non-null  float64\n",
            " 37  Дней между 2_3                                                          25000 non-null  float64\n",
            " 38  Дней между 3_4                                                          25000 non-null  float64\n",
            " 39  Дней между 4_5                                                          25000 non-null  float64\n",
            " 40  Дней между 5_6                                                          25000 non-null  float64\n",
            " 41  Дней между 6_7                                                          25000 non-null  float64\n",
            " 42  Дней между 7_8                                                          25000 non-null  float64\n",
            "dtypes: float64(15), int64(28)\n",
            "memory usage: 8.2 MB\n"
          ]
        }
      ]
    },
    {
      "cell_type": "markdown",
      "source": [
        "В данных есть один объект, который имеет `NaN` значения ВЕЗДЕ.\n",
        "\n",
        "Скорее всего, его **стоит удалить**, т.к. этот один объект особо не изменит работу программы при удалении"
      ],
      "metadata": {
        "id": "rqTny-LqLpgj"
      }
    },
    {
      "cell_type": "code",
      "source": [
        "X_y = X_y.drop([56554])"
      ],
      "metadata": {
        "id": "JxK_Do3lLv7K"
      },
      "execution_count": 63,
      "outputs": []
    },
    {
      "cell_type": "code",
      "source": [
        "X_y.info()"
      ],
      "metadata": {
        "colab": {
          "base_uri": "https://localhost:8080/"
        },
        "id": "XbseNXntMNWr",
        "outputId": "3e02a1d6-388e-4dd6-e906-68dbb4fbcd59"
      },
      "execution_count": 66,
      "outputs": [
        {
          "output_type": "stream",
          "name": "stdout",
          "text": [
            "<class 'pandas.core.frame.DataFrame'>\n",
            "RangeIndex: 56554 entries, 0 to 56553\n",
            "Data columns (total 14 columns):\n",
            " #   Column                      Non-Null Count  Dtype  \n",
            "---  ------                      --------------  -----  \n",
            " 0   Поставщик                   56554 non-null  int64  \n",
            " 1   Материал                    56554 non-null  int64  \n",
            " 2   Завод                       56554 non-null  float64\n",
            " 3   Закупочная организация      56554 non-null  float64\n",
            " 4   Балансовая единица          56554 non-null  float64\n",
            " 5   ЕИ                          56554 non-null  float64\n",
            " 6   Вариант поставки            56554 non-null  float64\n",
            " 7   Длительность                56554 non-null  float64\n",
            " 8   Месяц2                      56554 non-null  float64\n",
            " 9   Сумма                       56554 non-null  float64\n",
            " 10  Количество обработчиков 7   56554 non-null  float64\n",
            " 11  Количество обработчиков 15  56554 non-null  float64\n",
            " 12  Количество обработчиков 30  56554 non-null  float64\n",
            " 13  y                           56554 non-null  float64\n",
            "dtypes: float64(12), int64(2)\n",
            "memory usage: 6.0 MB\n"
          ]
        }
      ]
    },
    {
      "cell_type": "markdown",
      "source": [
        "## 2. Кодировка - пропускается"
      ],
      "metadata": {
        "id": "lRo96g4yMTFe"
      }
    },
    {
      "cell_type": "markdown",
      "source": [
        "## 3. **СНАЧАЛА ДЕЛИМ ДАННЫЕ НА ВЫБОРКИ**, а потом уже применяем `minMaxScaler`, т.к.:\n",
        "\n",
        "> *...В целях предотвращения распространения информации о распределении тестового набора, попадающего в вашу модель, вы должны выбрать вариант № 2 и установить масштабатор только на свои тренировочные данные, а затем стандартизировать как обучающий, так и тестовый наборы с этим масштабатором...*\n",
        "\n",
        "[Источник](https://qastack.ru/datascience/38395/standardscaler-before-and-after-splitting-data)"
      ],
      "metadata": {
        "id": "fT8AMAkqMYkP"
      }
    },
    {
      "cell_type": "code",
      "source": [
        "X = X_y.drop(columns=['y'])\n",
        "y = X_y['y']"
      ],
      "metadata": {
        "id": "55fjIQR-NxsF"
      },
      "execution_count": 68,
      "outputs": []
    },
    {
      "cell_type": "code",
      "source": [
        "X_train, X_test, y_train, y_test = train_test_split(X, y, test_size=0.2, random_state=0, shuffle=True)  ## Разбиваем данные 80/20 и применяем shuffle"
      ],
      "metadata": {
        "id": "hk1_G54qNNPT"
      },
      "execution_count": 70,
      "outputs": []
    },
    {
      "cell_type": "code",
      "source": [
        "X_train"
      ],
      "metadata": {
        "colab": {
          "base_uri": "https://localhost:8080/",
          "height": 441
        },
        "id": "stBw0oNmOLQx",
        "outputId": "039cf5fe-d83f-49e6-fb0a-ea00d3527d4a"
      },
      "execution_count": 71,
      "outputs": [
        {
          "output_type": "execute_result",
          "data": {
            "text/plain": [
              "       Поставщик  Материал  Завод  Закупочная организация  Балансовая единица  \\\n",
              "9773          86      6696    1.0                     1.0                 1.0   \n",
              "50936        781      6441    1.0                     1.0                 1.0   \n",
              "2685        1132     27439    1.0                     1.0                 1.0   \n",
              "52147         12     27439    6.0                     5.0                 5.0   \n",
              "1566           2      3855    1.0                     1.0                 1.0   \n",
              "...          ...       ...    ...                     ...                 ...   \n",
              "45891        132       287    5.0                     4.0                 4.0   \n",
              "52416         18      5115    1.0                     1.0                 1.0   \n",
              "42613        431     27439    1.0                     1.0                 1.0   \n",
              "43567        157     27439    1.0                     1.0                 1.0   \n",
              "2732         571      1829   21.0                    15.0                12.0   \n",
              "\n",
              "        ЕИ  Вариант поставки  Длительность  Месяц2     Сумма  \\\n",
              "9773   2.0               1.0          29.0     9.0  6.000398   \n",
              "50936  3.0               2.0          34.0     9.0  7.835330   \n",
              "2685   1.0               1.0          56.0     7.0  7.183799   \n",
              "52147  1.0               2.0          35.0     2.0  4.491205   \n",
              "1566   1.0               2.0          18.0    10.0  4.606946   \n",
              "...    ...               ...           ...     ...       ...   \n",
              "45891  1.0               2.0          22.0     9.0  7.175985   \n",
              "52416  3.0               1.0          82.0     3.0  7.557519   \n",
              "42613  1.0               2.0           3.0     7.0  7.639865   \n",
              "43567  1.0               1.0          56.0     3.0  5.704491   \n",
              "2732   4.0               2.0           0.0    10.0  7.493221   \n",
              "\n",
              "       Количество обработчиков 7  Количество обработчиков 15  \\\n",
              "9773                         9.0                         9.0   \n",
              "50936                        6.0                         7.0   \n",
              "2685                         6.0                         6.0   \n",
              "52147                       10.0                        10.0   \n",
              "1566                         7.0                         7.0   \n",
              "...                          ...                         ...   \n",
              "45891                        7.0                         7.0   \n",
              "52416                       13.0                        13.0   \n",
              "42613                        6.0                         6.0   \n",
              "43567                        7.0                         7.0   \n",
              "2732                         6.0                         6.0   \n",
              "\n",
              "       Количество обработчиков 30  \n",
              "9773                          9.0  \n",
              "50936                         7.0  \n",
              "2685                          6.0  \n",
              "52147                        10.0  \n",
              "1566                          7.0  \n",
              "...                           ...  \n",
              "45891                         7.0  \n",
              "52416                        13.0  \n",
              "42613                         6.0  \n",
              "43567                         7.0  \n",
              "2732                          6.0  \n",
              "\n",
              "[45243 rows x 13 columns]"
            ],
            "text/html": [
              "\n",
              "  <div id=\"df-c4bc1eb2-e446-492d-8143-d2f83d2eebc8\" class=\"colab-df-container\">\n",
              "    <div>\n",
              "<style scoped>\n",
              "    .dataframe tbody tr th:only-of-type {\n",
              "        vertical-align: middle;\n",
              "    }\n",
              "\n",
              "    .dataframe tbody tr th {\n",
              "        vertical-align: top;\n",
              "    }\n",
              "\n",
              "    .dataframe thead th {\n",
              "        text-align: right;\n",
              "    }\n",
              "</style>\n",
              "<table border=\"1\" class=\"dataframe\">\n",
              "  <thead>\n",
              "    <tr style=\"text-align: right;\">\n",
              "      <th></th>\n",
              "      <th>Поставщик</th>\n",
              "      <th>Материал</th>\n",
              "      <th>Завод</th>\n",
              "      <th>Закупочная организация</th>\n",
              "      <th>Балансовая единица</th>\n",
              "      <th>ЕИ</th>\n",
              "      <th>Вариант поставки</th>\n",
              "      <th>Длительность</th>\n",
              "      <th>Месяц2</th>\n",
              "      <th>Сумма</th>\n",
              "      <th>Количество обработчиков 7</th>\n",
              "      <th>Количество обработчиков 15</th>\n",
              "      <th>Количество обработчиков 30</th>\n",
              "    </tr>\n",
              "  </thead>\n",
              "  <tbody>\n",
              "    <tr>\n",
              "      <th>9773</th>\n",
              "      <td>86</td>\n",
              "      <td>6696</td>\n",
              "      <td>1.0</td>\n",
              "      <td>1.0</td>\n",
              "      <td>1.0</td>\n",
              "      <td>2.0</td>\n",
              "      <td>1.0</td>\n",
              "      <td>29.0</td>\n",
              "      <td>9.0</td>\n",
              "      <td>6.000398</td>\n",
              "      <td>9.0</td>\n",
              "      <td>9.0</td>\n",
              "      <td>9.0</td>\n",
              "    </tr>\n",
              "    <tr>\n",
              "      <th>50936</th>\n",
              "      <td>781</td>\n",
              "      <td>6441</td>\n",
              "      <td>1.0</td>\n",
              "      <td>1.0</td>\n",
              "      <td>1.0</td>\n",
              "      <td>3.0</td>\n",
              "      <td>2.0</td>\n",
              "      <td>34.0</td>\n",
              "      <td>9.0</td>\n",
              "      <td>7.835330</td>\n",
              "      <td>6.0</td>\n",
              "      <td>7.0</td>\n",
              "      <td>7.0</td>\n",
              "    </tr>\n",
              "    <tr>\n",
              "      <th>2685</th>\n",
              "      <td>1132</td>\n",
              "      <td>27439</td>\n",
              "      <td>1.0</td>\n",
              "      <td>1.0</td>\n",
              "      <td>1.0</td>\n",
              "      <td>1.0</td>\n",
              "      <td>1.0</td>\n",
              "      <td>56.0</td>\n",
              "      <td>7.0</td>\n",
              "      <td>7.183799</td>\n",
              "      <td>6.0</td>\n",
              "      <td>6.0</td>\n",
              "      <td>6.0</td>\n",
              "    </tr>\n",
              "    <tr>\n",
              "      <th>52147</th>\n",
              "      <td>12</td>\n",
              "      <td>27439</td>\n",
              "      <td>6.0</td>\n",
              "      <td>5.0</td>\n",
              "      <td>5.0</td>\n",
              "      <td>1.0</td>\n",
              "      <td>2.0</td>\n",
              "      <td>35.0</td>\n",
              "      <td>2.0</td>\n",
              "      <td>4.491205</td>\n",
              "      <td>10.0</td>\n",
              "      <td>10.0</td>\n",
              "      <td>10.0</td>\n",
              "    </tr>\n",
              "    <tr>\n",
              "      <th>1566</th>\n",
              "      <td>2</td>\n",
              "      <td>3855</td>\n",
              "      <td>1.0</td>\n",
              "      <td>1.0</td>\n",
              "      <td>1.0</td>\n",
              "      <td>1.0</td>\n",
              "      <td>2.0</td>\n",
              "      <td>18.0</td>\n",
              "      <td>10.0</td>\n",
              "      <td>4.606946</td>\n",
              "      <td>7.0</td>\n",
              "      <td>7.0</td>\n",
              "      <td>7.0</td>\n",
              "    </tr>\n",
              "    <tr>\n",
              "      <th>...</th>\n",
              "      <td>...</td>\n",
              "      <td>...</td>\n",
              "      <td>...</td>\n",
              "      <td>...</td>\n",
              "      <td>...</td>\n",
              "      <td>...</td>\n",
              "      <td>...</td>\n",
              "      <td>...</td>\n",
              "      <td>...</td>\n",
              "      <td>...</td>\n",
              "      <td>...</td>\n",
              "      <td>...</td>\n",
              "      <td>...</td>\n",
              "    </tr>\n",
              "    <tr>\n",
              "      <th>45891</th>\n",
              "      <td>132</td>\n",
              "      <td>287</td>\n",
              "      <td>5.0</td>\n",
              "      <td>4.0</td>\n",
              "      <td>4.0</td>\n",
              "      <td>1.0</td>\n",
              "      <td>2.0</td>\n",
              "      <td>22.0</td>\n",
              "      <td>9.0</td>\n",
              "      <td>7.175985</td>\n",
              "      <td>7.0</td>\n",
              "      <td>7.0</td>\n",
              "      <td>7.0</td>\n",
              "    </tr>\n",
              "    <tr>\n",
              "      <th>52416</th>\n",
              "      <td>18</td>\n",
              "      <td>5115</td>\n",
              "      <td>1.0</td>\n",
              "      <td>1.0</td>\n",
              "      <td>1.0</td>\n",
              "      <td>3.0</td>\n",
              "      <td>1.0</td>\n",
              "      <td>82.0</td>\n",
              "      <td>3.0</td>\n",
              "      <td>7.557519</td>\n",
              "      <td>13.0</td>\n",
              "      <td>13.0</td>\n",
              "      <td>13.0</td>\n",
              "    </tr>\n",
              "    <tr>\n",
              "      <th>42613</th>\n",
              "      <td>431</td>\n",
              "      <td>27439</td>\n",
              "      <td>1.0</td>\n",
              "      <td>1.0</td>\n",
              "      <td>1.0</td>\n",
              "      <td>1.0</td>\n",
              "      <td>2.0</td>\n",
              "      <td>3.0</td>\n",
              "      <td>7.0</td>\n",
              "      <td>7.639865</td>\n",
              "      <td>6.0</td>\n",
              "      <td>6.0</td>\n",
              "      <td>6.0</td>\n",
              "    </tr>\n",
              "    <tr>\n",
              "      <th>43567</th>\n",
              "      <td>157</td>\n",
              "      <td>27439</td>\n",
              "      <td>1.0</td>\n",
              "      <td>1.0</td>\n",
              "      <td>1.0</td>\n",
              "      <td>1.0</td>\n",
              "      <td>1.0</td>\n",
              "      <td>56.0</td>\n",
              "      <td>3.0</td>\n",
              "      <td>5.704491</td>\n",
              "      <td>7.0</td>\n",
              "      <td>7.0</td>\n",
              "      <td>7.0</td>\n",
              "    </tr>\n",
              "    <tr>\n",
              "      <th>2732</th>\n",
              "      <td>571</td>\n",
              "      <td>1829</td>\n",
              "      <td>21.0</td>\n",
              "      <td>15.0</td>\n",
              "      <td>12.0</td>\n",
              "      <td>4.0</td>\n",
              "      <td>2.0</td>\n",
              "      <td>0.0</td>\n",
              "      <td>10.0</td>\n",
              "      <td>7.493221</td>\n",
              "      <td>6.0</td>\n",
              "      <td>6.0</td>\n",
              "      <td>6.0</td>\n",
              "    </tr>\n",
              "  </tbody>\n",
              "</table>\n",
              "<p>45243 rows × 13 columns</p>\n",
              "</div>\n",
              "    <div class=\"colab-df-buttons\">\n",
              "\n",
              "  <div class=\"colab-df-container\">\n",
              "    <button class=\"colab-df-convert\" onclick=\"convertToInteractive('df-c4bc1eb2-e446-492d-8143-d2f83d2eebc8')\"\n",
              "            title=\"Convert this dataframe to an interactive table.\"\n",
              "            style=\"display:none;\">\n",
              "\n",
              "  <svg xmlns=\"http://www.w3.org/2000/svg\" height=\"24px\" viewBox=\"0 -960 960 960\">\n",
              "    <path d=\"M120-120v-720h720v720H120Zm60-500h600v-160H180v160Zm220 220h160v-160H400v160Zm0 220h160v-160H400v160ZM180-400h160v-160H180v160Zm440 0h160v-160H620v160ZM180-180h160v-160H180v160Zm440 0h160v-160H620v160Z\"/>\n",
              "  </svg>\n",
              "    </button>\n",
              "\n",
              "  <style>\n",
              "    .colab-df-container {\n",
              "      display:flex;\n",
              "      gap: 12px;\n",
              "    }\n",
              "\n",
              "    .colab-df-convert {\n",
              "      background-color: #E8F0FE;\n",
              "      border: none;\n",
              "      border-radius: 50%;\n",
              "      cursor: pointer;\n",
              "      display: none;\n",
              "      fill: #1967D2;\n",
              "      height: 32px;\n",
              "      padding: 0 0 0 0;\n",
              "      width: 32px;\n",
              "    }\n",
              "\n",
              "    .colab-df-convert:hover {\n",
              "      background-color: #E2EBFA;\n",
              "      box-shadow: 0px 1px 2px rgba(60, 64, 67, 0.3), 0px 1px 3px 1px rgba(60, 64, 67, 0.15);\n",
              "      fill: #174EA6;\n",
              "    }\n",
              "\n",
              "    .colab-df-buttons div {\n",
              "      margin-bottom: 4px;\n",
              "    }\n",
              "\n",
              "    [theme=dark] .colab-df-convert {\n",
              "      background-color: #3B4455;\n",
              "      fill: #D2E3FC;\n",
              "    }\n",
              "\n",
              "    [theme=dark] .colab-df-convert:hover {\n",
              "      background-color: #434B5C;\n",
              "      box-shadow: 0px 1px 3px 1px rgba(0, 0, 0, 0.15);\n",
              "      filter: drop-shadow(0px 1px 2px rgba(0, 0, 0, 0.3));\n",
              "      fill: #FFFFFF;\n",
              "    }\n",
              "  </style>\n",
              "\n",
              "    <script>\n",
              "      const buttonEl =\n",
              "        document.querySelector('#df-c4bc1eb2-e446-492d-8143-d2f83d2eebc8 button.colab-df-convert');\n",
              "      buttonEl.style.display =\n",
              "        google.colab.kernel.accessAllowed ? 'block' : 'none';\n",
              "\n",
              "      async function convertToInteractive(key) {\n",
              "        const element = document.querySelector('#df-c4bc1eb2-e446-492d-8143-d2f83d2eebc8');\n",
              "        const dataTable =\n",
              "          await google.colab.kernel.invokeFunction('convertToInteractive',\n",
              "                                                    [key], {});\n",
              "        if (!dataTable) return;\n",
              "\n",
              "        const docLinkHtml = 'Like what you see? Visit the ' +\n",
              "          '<a target=\"_blank\" href=https://colab.research.google.com/notebooks/data_table.ipynb>data table notebook</a>'\n",
              "          + ' to learn more about interactive tables.';\n",
              "        element.innerHTML = '';\n",
              "        dataTable['output_type'] = 'display_data';\n",
              "        await google.colab.output.renderOutput(dataTable, element);\n",
              "        const docLink = document.createElement('div');\n",
              "        docLink.innerHTML = docLinkHtml;\n",
              "        element.appendChild(docLink);\n",
              "      }\n",
              "    </script>\n",
              "  </div>\n",
              "\n",
              "\n",
              "<div id=\"df-a1dce121-0719-4c91-b008-b84b75d9cdb9\">\n",
              "  <button class=\"colab-df-quickchart\" onclick=\"quickchart('df-a1dce121-0719-4c91-b008-b84b75d9cdb9')\"\n",
              "            title=\"Suggest charts.\"\n",
              "            style=\"display:none;\">\n",
              "\n",
              "<svg xmlns=\"http://www.w3.org/2000/svg\" height=\"24px\"viewBox=\"0 0 24 24\"\n",
              "     width=\"24px\">\n",
              "    <g>\n",
              "        <path d=\"M19 3H5c-1.1 0-2 .9-2 2v14c0 1.1.9 2 2 2h14c1.1 0 2-.9 2-2V5c0-1.1-.9-2-2-2zM9 17H7v-7h2v7zm4 0h-2V7h2v10zm4 0h-2v-4h2v4z\"/>\n",
              "    </g>\n",
              "</svg>\n",
              "  </button>\n",
              "\n",
              "<style>\n",
              "  .colab-df-quickchart {\n",
              "      --bg-color: #E8F0FE;\n",
              "      --fill-color: #1967D2;\n",
              "      --hover-bg-color: #E2EBFA;\n",
              "      --hover-fill-color: #174EA6;\n",
              "      --disabled-fill-color: #AAA;\n",
              "      --disabled-bg-color: #DDD;\n",
              "  }\n",
              "\n",
              "  [theme=dark] .colab-df-quickchart {\n",
              "      --bg-color: #3B4455;\n",
              "      --fill-color: #D2E3FC;\n",
              "      --hover-bg-color: #434B5C;\n",
              "      --hover-fill-color: #FFFFFF;\n",
              "      --disabled-bg-color: #3B4455;\n",
              "      --disabled-fill-color: #666;\n",
              "  }\n",
              "\n",
              "  .colab-df-quickchart {\n",
              "    background-color: var(--bg-color);\n",
              "    border: none;\n",
              "    border-radius: 50%;\n",
              "    cursor: pointer;\n",
              "    display: none;\n",
              "    fill: var(--fill-color);\n",
              "    height: 32px;\n",
              "    padding: 0;\n",
              "    width: 32px;\n",
              "  }\n",
              "\n",
              "  .colab-df-quickchart:hover {\n",
              "    background-color: var(--hover-bg-color);\n",
              "    box-shadow: 0 1px 2px rgba(60, 64, 67, 0.3), 0 1px 3px 1px rgba(60, 64, 67, 0.15);\n",
              "    fill: var(--button-hover-fill-color);\n",
              "  }\n",
              "\n",
              "  .colab-df-quickchart-complete:disabled,\n",
              "  .colab-df-quickchart-complete:disabled:hover {\n",
              "    background-color: var(--disabled-bg-color);\n",
              "    fill: var(--disabled-fill-color);\n",
              "    box-shadow: none;\n",
              "  }\n",
              "\n",
              "  .colab-df-spinner {\n",
              "    border: 2px solid var(--fill-color);\n",
              "    border-color: transparent;\n",
              "    border-bottom-color: var(--fill-color);\n",
              "    animation:\n",
              "      spin 1s steps(1) infinite;\n",
              "  }\n",
              "\n",
              "  @keyframes spin {\n",
              "    0% {\n",
              "      border-color: transparent;\n",
              "      border-bottom-color: var(--fill-color);\n",
              "      border-left-color: var(--fill-color);\n",
              "    }\n",
              "    20% {\n",
              "      border-color: transparent;\n",
              "      border-left-color: var(--fill-color);\n",
              "      border-top-color: var(--fill-color);\n",
              "    }\n",
              "    30% {\n",
              "      border-color: transparent;\n",
              "      border-left-color: var(--fill-color);\n",
              "      border-top-color: var(--fill-color);\n",
              "      border-right-color: var(--fill-color);\n",
              "    }\n",
              "    40% {\n",
              "      border-color: transparent;\n",
              "      border-right-color: var(--fill-color);\n",
              "      border-top-color: var(--fill-color);\n",
              "    }\n",
              "    60% {\n",
              "      border-color: transparent;\n",
              "      border-right-color: var(--fill-color);\n",
              "    }\n",
              "    80% {\n",
              "      border-color: transparent;\n",
              "      border-right-color: var(--fill-color);\n",
              "      border-bottom-color: var(--fill-color);\n",
              "    }\n",
              "    90% {\n",
              "      border-color: transparent;\n",
              "      border-bottom-color: var(--fill-color);\n",
              "    }\n",
              "  }\n",
              "</style>\n",
              "\n",
              "  <script>\n",
              "    async function quickchart(key) {\n",
              "      const quickchartButtonEl =\n",
              "        document.querySelector('#' + key + ' button');\n",
              "      quickchartButtonEl.disabled = true;  // To prevent multiple clicks.\n",
              "      quickchartButtonEl.classList.add('colab-df-spinner');\n",
              "      try {\n",
              "        const charts = await google.colab.kernel.invokeFunction(\n",
              "            'suggestCharts', [key], {});\n",
              "      } catch (error) {\n",
              "        console.error('Error during call to suggestCharts:', error);\n",
              "      }\n",
              "      quickchartButtonEl.classList.remove('colab-df-spinner');\n",
              "      quickchartButtonEl.classList.add('colab-df-quickchart-complete');\n",
              "    }\n",
              "    (() => {\n",
              "      let quickchartButtonEl =\n",
              "        document.querySelector('#df-a1dce121-0719-4c91-b008-b84b75d9cdb9 button');\n",
              "      quickchartButtonEl.style.display =\n",
              "        google.colab.kernel.accessAllowed ? 'block' : 'none';\n",
              "    })();\n",
              "  </script>\n",
              "</div>\n",
              "    </div>\n",
              "  </div>\n"
            ]
          },
          "metadata": {},
          "execution_count": 71
        }
      ]
    },
    {
      "cell_type": "code",
      "source": [
        "scaler = MinMaxScaler()\n",
        "scaler.fit(X_train)\n",
        "X_train_scaled = scaler.transform(X_train)\n",
        "X_train_scaled"
      ],
      "metadata": {
        "colab": {
          "base_uri": "https://localhost:8080/"
        },
        "id": "4BNn5gOVOSxp",
        "outputId": "715495f6-4137-43c8-c38c-49ee2817a030"
      },
      "execution_count": 76,
      "outputs": [
        {
          "output_type": "execute_result",
          "data": {
            "text/plain": [
              "array([[0.03126149, 0.24400467, 0.        , ..., 0.23529412, 0.23529412,\n",
              "        0.23529412],\n",
              "       [0.28687017, 0.23471098, 0.        , ..., 0.14705882, 0.17647059,\n",
              "        0.17647059],\n",
              "       [0.41596175, 1.        , 0.        , ..., 0.14705882, 0.14705882,\n",
              "        0.14705882],\n",
              "       ...,\n",
              "       [0.15814638, 1.        , 0.        , ..., 0.14705882, 0.14705882,\n",
              "        0.14705882],\n",
              "       [0.05737403, 1.        , 0.        , ..., 0.17647059, 0.17647059,\n",
              "        0.17647059],\n",
              "       [0.2096359 , 0.06662293, 0.25316456, ..., 0.14705882, 0.14705882,\n",
              "        0.14705882]])"
            ]
          },
          "metadata": {},
          "execution_count": 76
        }
      ]
    },
    {
      "cell_type": "code",
      "source": [
        "scaler = MinMaxScaler()\n",
        "scaler.fit(X_test)\n",
        "X_test_scaled = scaler.transform(X_test)\n",
        "X_test_scaled"
      ],
      "metadata": {
        "colab": {
          "base_uri": "https://localhost:8080/"
        },
        "id": "hQ1uSTm7Q4-j",
        "outputId": "30a67902-4bbc-4cd6-802d-2705de8f4da7"
      },
      "execution_count": 87,
      "outputs": [
        {
          "output_type": "execute_result",
          "data": {
            "text/plain": [
              "array([[2.83927915e-01, 2.35257672e-01, 0.00000000e+00, ...,\n",
              "        2.97297297e-01, 2.97297297e-01, 3.24324324e-01],\n",
              "       [1.49687385e-01, 5.64764196e-01, 1.11111111e-01, ...,\n",
              "        2.70270270e-02, 2.70270270e-02, 5.40540541e-02],\n",
              "       [5.07539537e-02, 9.91581019e-01, 0.00000000e+00, ...,\n",
              "        1.35135135e-01, 1.35135135e-01, 1.35135135e-01],\n",
              "       ...,\n",
              "       [3.75137918e-02, 2.41672134e-01, 5.55555556e-02, ...,\n",
              "        1.35135135e-01, 1.35135135e-01, 1.62162162e-01],\n",
              "       [1.32033836e-01, 4.58087324e-01, 4.30555556e-01, ...,\n",
              "        5.40540541e-02, 5.40540541e-02, 5.40540541e-02],\n",
              "       [3.67782273e-04, 1.00000000e+00, 1.38888889e-02, ...,\n",
              "        1.08108108e-01, 1.08108108e-01, 1.08108108e-01]])"
            ]
          },
          "metadata": {},
          "execution_count": 87
        }
      ]
    },
    {
      "cell_type": "markdown",
      "source": [
        "___\n",
        "# 4. Начинаем подбирать и обучать модели МО\n",
        "\n",
        "- ~Метод k-ближайших соседей (K-Nearest Neighbors)~ -- **0.33 (F1-score)**;\n",
        "- Классификатор дерева решений (Decision Tree Classifier) / Случайный лес (Random Forests);\n",
        "- Наивный байесовский метод (Naive Bayes);\n",
        "- Линейный дискриминантный анализ (Linear Discriminant Analysis);\n",
        "- ~Логистическая регрессия (Logistic Regression)~  -- **0.24 (F1-score)**;\n",
        "- Глубокое обучение и нейронные сети;"
      ],
      "metadata": {
        "id": "2E_NxYYwPGwS"
      }
    },
    {
      "cell_type": "markdown",
      "source": [
        "# Логистическая Регрессия (LogisticRegression)"
      ],
      "metadata": {
        "id": "FDTZ26hlSPig"
      }
    },
    {
      "cell_type": "code",
      "source": [
        "model = LogisticRegression(penalty='none')"
      ],
      "metadata": {
        "id": "Y0FLc_k1PLzF"
      },
      "execution_count": 81,
      "outputs": []
    },
    {
      "cell_type": "code",
      "source": [
        "model.fit(X_train_scaled, y_train)"
      ],
      "metadata": {
        "colab": {
          "base_uri": "https://localhost:8080/",
          "height": 268
        },
        "id": "TyYNRAaMQJXu",
        "outputId": "ca82a45a-26dc-45b0-8665-777abc7b6c69"
      },
      "execution_count": 82,
      "outputs": [
        {
          "output_type": "stream",
          "name": "stderr",
          "text": [
            "/usr/local/lib/python3.10/dist-packages/sklearn/linear_model/_logistic.py:1173: FutureWarning: `penalty='none'`has been deprecated in 1.2 and will be removed in 1.4. To keep the past behaviour, set `penalty=None`.\n",
            "  warnings.warn(\n",
            "/usr/local/lib/python3.10/dist-packages/sklearn/linear_model/_logistic.py:458: ConvergenceWarning: lbfgs failed to converge (status=1):\n",
            "STOP: TOTAL NO. of ITERATIONS REACHED LIMIT.\n",
            "\n",
            "Increase the number of iterations (max_iter) or scale the data as shown in:\n",
            "    https://scikit-learn.org/stable/modules/preprocessing.html\n",
            "Please also refer to the documentation for alternative solver options:\n",
            "    https://scikit-learn.org/stable/modules/linear_model.html#logistic-regression\n",
            "  n_iter_i = _check_optimize_result(\n"
          ]
        },
        {
          "output_type": "execute_result",
          "data": {
            "text/plain": [
              "LogisticRegression(penalty='none')"
            ],
            "text/html": [
              "<style>#sk-container-id-1 {color: black;background-color: white;}#sk-container-id-1 pre{padding: 0;}#sk-container-id-1 div.sk-toggleable {background-color: white;}#sk-container-id-1 label.sk-toggleable__label {cursor: pointer;display: block;width: 100%;margin-bottom: 0;padding: 0.3em;box-sizing: border-box;text-align: center;}#sk-container-id-1 label.sk-toggleable__label-arrow:before {content: \"▸\";float: left;margin-right: 0.25em;color: #696969;}#sk-container-id-1 label.sk-toggleable__label-arrow:hover:before {color: black;}#sk-container-id-1 div.sk-estimator:hover label.sk-toggleable__label-arrow:before {color: black;}#sk-container-id-1 div.sk-toggleable__content {max-height: 0;max-width: 0;overflow: hidden;text-align: left;background-color: #f0f8ff;}#sk-container-id-1 div.sk-toggleable__content pre {margin: 0.2em;color: black;border-radius: 0.25em;background-color: #f0f8ff;}#sk-container-id-1 input.sk-toggleable__control:checked~div.sk-toggleable__content {max-height: 200px;max-width: 100%;overflow: auto;}#sk-container-id-1 input.sk-toggleable__control:checked~label.sk-toggleable__label-arrow:before {content: \"▾\";}#sk-container-id-1 div.sk-estimator input.sk-toggleable__control:checked~label.sk-toggleable__label {background-color: #d4ebff;}#sk-container-id-1 div.sk-label input.sk-toggleable__control:checked~label.sk-toggleable__label {background-color: #d4ebff;}#sk-container-id-1 input.sk-hidden--visually {border: 0;clip: rect(1px 1px 1px 1px);clip: rect(1px, 1px, 1px, 1px);height: 1px;margin: -1px;overflow: hidden;padding: 0;position: absolute;width: 1px;}#sk-container-id-1 div.sk-estimator {font-family: monospace;background-color: #f0f8ff;border: 1px dotted black;border-radius: 0.25em;box-sizing: border-box;margin-bottom: 0.5em;}#sk-container-id-1 div.sk-estimator:hover {background-color: #d4ebff;}#sk-container-id-1 div.sk-parallel-item::after {content: \"\";width: 100%;border-bottom: 1px solid gray;flex-grow: 1;}#sk-container-id-1 div.sk-label:hover label.sk-toggleable__label {background-color: #d4ebff;}#sk-container-id-1 div.sk-serial::before {content: \"\";position: absolute;border-left: 1px solid gray;box-sizing: border-box;top: 0;bottom: 0;left: 50%;z-index: 0;}#sk-container-id-1 div.sk-serial {display: flex;flex-direction: column;align-items: center;background-color: white;padding-right: 0.2em;padding-left: 0.2em;position: relative;}#sk-container-id-1 div.sk-item {position: relative;z-index: 1;}#sk-container-id-1 div.sk-parallel {display: flex;align-items: stretch;justify-content: center;background-color: white;position: relative;}#sk-container-id-1 div.sk-item::before, #sk-container-id-1 div.sk-parallel-item::before {content: \"\";position: absolute;border-left: 1px solid gray;box-sizing: border-box;top: 0;bottom: 0;left: 50%;z-index: -1;}#sk-container-id-1 div.sk-parallel-item {display: flex;flex-direction: column;z-index: 1;position: relative;background-color: white;}#sk-container-id-1 div.sk-parallel-item:first-child::after {align-self: flex-end;width: 50%;}#sk-container-id-1 div.sk-parallel-item:last-child::after {align-self: flex-start;width: 50%;}#sk-container-id-1 div.sk-parallel-item:only-child::after {width: 0;}#sk-container-id-1 div.sk-dashed-wrapped {border: 1px dashed gray;margin: 0 0.4em 0.5em 0.4em;box-sizing: border-box;padding-bottom: 0.4em;background-color: white;}#sk-container-id-1 div.sk-label label {font-family: monospace;font-weight: bold;display: inline-block;line-height: 1.2em;}#sk-container-id-1 div.sk-label-container {text-align: center;}#sk-container-id-1 div.sk-container {/* jupyter's `normalize.less` sets `[hidden] { display: none; }` but bootstrap.min.css set `[hidden] { display: none !important; }` so we also need the `!important` here to be able to override the default hidden behavior on the sphinx rendered scikit-learn.org. See: https://github.com/scikit-learn/scikit-learn/issues/21755 */display: inline-block !important;position: relative;}#sk-container-id-1 div.sk-text-repr-fallback {display: none;}</style><div id=\"sk-container-id-1\" class=\"sk-top-container\"><div class=\"sk-text-repr-fallback\"><pre>LogisticRegression(penalty=&#x27;none&#x27;)</pre><b>In a Jupyter environment, please rerun this cell to show the HTML representation or trust the notebook. <br />On GitHub, the HTML representation is unable to render, please try loading this page with nbviewer.org.</b></div><div class=\"sk-container\" hidden><div class=\"sk-item\"><div class=\"sk-estimator sk-toggleable\"><input class=\"sk-toggleable__control sk-hidden--visually\" id=\"sk-estimator-id-1\" type=\"checkbox\" checked><label for=\"sk-estimator-id-1\" class=\"sk-toggleable__label sk-toggleable__label-arrow\">LogisticRegression</label><div class=\"sk-toggleable__content\"><pre>LogisticRegression(penalty=&#x27;none&#x27;)</pre></div></div></div></div></div>"
            ]
          },
          "metadata": {},
          "execution_count": 82
        }
      ]
    },
    {
      "cell_type": "code",
      "source": [
        "# Accuracy score\n",
        "model.score(X_train_scaled, y_train)"
      ],
      "metadata": {
        "colab": {
          "base_uri": "https://localhost:8080/"
        },
        "id": "B_pBQB3AQRJK",
        "outputId": "eb7b4015-c4b8-4014-de12-a4466a66a9b6"
      },
      "execution_count": 86,
      "outputs": [
        {
          "output_type": "execute_result",
          "data": {
            "text/plain": [
              "0.8548283712397498"
            ]
          },
          "metadata": {},
          "execution_count": 86
        }
      ]
    },
    {
      "cell_type": "code",
      "source": [
        "recall_score(y_train, model.predict(X_train_scaled))"
      ],
      "metadata": {
        "colab": {
          "base_uri": "https://localhost:8080/"
        },
        "id": "8INWCcsXRxbS",
        "outputId": "4f7a6fc7-d2a7-4ebe-840d-54dba17e71de"
      },
      "execution_count": 93,
      "outputs": [
        {
          "output_type": "execute_result",
          "data": {
            "text/plain": [
              "0.019859456156431407"
            ]
          },
          "metadata": {},
          "execution_count": 93
        }
      ]
    },
    {
      "cell_type": "code",
      "source": [
        "f1_score(y_train, model.predict(X_train_scaled))"
      ],
      "metadata": {
        "colab": {
          "base_uri": "https://localhost:8080/"
        },
        "id": "QFdzvPD5QZlC",
        "outputId": "67938a65-52be-4df3-abf7-88663a43cdb3"
      },
      "execution_count": 91,
      "outputs": [
        {
          "output_type": "execute_result",
          "data": {
            "text/plain": [
              "0.03807850029291154"
            ]
          },
          "metadata": {},
          "execution_count": 91
        }
      ]
    },
    {
      "cell_type": "code",
      "source": [
        "accuracy_score(y_test, model.predict(X_test_scaled))"
      ],
      "metadata": {
        "colab": {
          "base_uri": "https://localhost:8080/"
        },
        "id": "obwFnDgBRE1n",
        "outputId": "5b42a214-9496-4318-e747-4df660fe3e7f"
      },
      "execution_count": 94,
      "outputs": [
        {
          "output_type": "execute_result",
          "data": {
            "text/plain": [
              "0.8548315798779949"
            ]
          },
          "metadata": {},
          "execution_count": 94
        }
      ]
    },
    {
      "cell_type": "code",
      "source": [
        "f1_score(y_test, model.predict(X_test_scaled))"
      ],
      "metadata": {
        "colab": {
          "base_uri": "https://localhost:8080/"
        },
        "id": "T-0paBQDSAB8",
        "outputId": "9ede865a-5179-4b42-b724-a3ae74a48155"
      },
      "execution_count": 95,
      "outputs": [
        {
          "output_type": "execute_result",
          "data": {
            "text/plain": [
              "0.024940617577197146"
            ]
          },
          "metadata": {},
          "execution_count": 95
        }
      ]
    },
    {
      "cell_type": "markdown",
      "source": [
        "___\n",
        "# k-ближайших соседей (k-nearest neighbours)"
      ],
      "metadata": {
        "id": "l380MVEESWfZ"
      }
    },
    {
      "cell_type": "code",
      "source": [
        "knn = KNeighborsClassifier(n_neighbors=5)"
      ],
      "metadata": {
        "id": "9y-SwjQrSbYQ"
      },
      "execution_count": 97,
      "outputs": []
    },
    {
      "cell_type": "code",
      "source": [
        "knn = knn.fit(X_train_scaled, y_train)"
      ],
      "metadata": {
        "id": "Sbl3C1_vTrHl"
      },
      "execution_count": 100,
      "outputs": []
    },
    {
      "cell_type": "code",
      "source": [
        "knn.score(X_train_scaled, y_train)"
      ],
      "metadata": {
        "colab": {
          "base_uri": "https://localhost:8080/"
        },
        "id": "j6HcnDNSTxQV",
        "outputId": "1ef1ce2f-a5eb-4108-9f76-65432b083b6f"
      },
      "execution_count": 101,
      "outputs": [
        {
          "output_type": "execute_result",
          "data": {
            "text/plain": [
              "0.8933757708374777"
            ]
          },
          "metadata": {},
          "execution_count": 101
        }
      ]
    },
    {
      "cell_type": "code",
      "source": [
        "f1_score(y_train, knn.predict(X_train_scaled))"
      ],
      "metadata": {
        "colab": {
          "base_uri": "https://localhost:8080/"
        },
        "id": "uKgEXYjyT2QN",
        "outputId": "203c4942-6967-43c2-cc75-1fbc6f5863a1"
      },
      "execution_count": 102,
      "outputs": [
        {
          "output_type": "execute_result",
          "data": {
            "text/plain": [
              "0.5092573753814853"
            ]
          },
          "metadata": {},
          "execution_count": 102
        }
      ]
    },
    {
      "cell_type": "code",
      "source": [
        "f1_score(y_test, knn.predict(X_test_scaled))"
      ],
      "metadata": {
        "colab": {
          "base_uri": "https://localhost:8080/"
        },
        "id": "YnwIfn2BUF1_",
        "outputId": "37063d1c-adda-4a6c-809b-7a9c8600030d"
      },
      "execution_count": 103,
      "outputs": [
        {
          "output_type": "execute_result",
          "data": {
            "text/plain": [
              "0.2582691436338922"
            ]
          },
          "metadata": {},
          "execution_count": 103
        }
      ]
    },
    {
      "cell_type": "code",
      "source": [
        "knn20 = KNeighborsClassifier(n_neighbors=20)\n",
        "knn20 = knn20.fit(X_train_scaled, y_train)\n",
        "print(\"Accuracy: \", knn20.score(X_train_scaled, y_train))\n",
        "print(\"F1-score(train): \", f1_score(y_train, knn20.predict(X_train_scaled)))\n",
        "print(\"F1-score(test): \", f1_score(y_test, knn20.predict(X_test_scaled)))"
      ],
      "metadata": {
        "colab": {
          "base_uri": "https://localhost:8080/"
        },
        "id": "dMd_3zy4UME2",
        "outputId": "36121dc1-402f-4ea9-cb1e-4fdb68aa824d"
      },
      "execution_count": 104,
      "outputs": [
        {
          "output_type": "stream",
          "name": "stdout",
          "text": [
            "Accuracy:  0.8683774285524832\n",
            "F1-score(train):  0.2403367776502105\n",
            "F1-score(test):  0.16755602988260404\n"
          ]
        }
      ]
    },
    {
      "cell_type": "code",
      "source": [
        "knn2 = KNeighborsClassifier(n_neighbors=2)\n",
        "knn2 = knn2.fit(X_train_scaled, y_train)\n",
        "print(\"Accuracy: \", knn2.score(X_train_scaled, y_train))\n",
        "print(\"F1-score(train): \", f1_score(y_train, knn2.predict(X_train_scaled)))\n",
        "print(\"F1-score(test): \", f1_score(y_test, knn2.predict(X_test_scaled)))"
      ],
      "metadata": {
        "colab": {
          "base_uri": "https://localhost:8080/"
        },
        "id": "psDO6SJyU4SV",
        "outputId": "3b2ee991-83fd-42db-822a-9c5fb5e72a1f"
      },
      "execution_count": 105,
      "outputs": [
        {
          "output_type": "stream",
          "name": "stdout",
          "text": [
            "Accuracy:  0.9133788652388215\n",
            "F1-score(train):  0.5727679058105309\n",
            "F1-score(test):  0.22114920328343796\n"
          ]
        }
      ]
    },
    {
      "cell_type": "code",
      "source": [
        "knn1 = KNeighborsClassifier(n_neighbors=1)\n",
        "knn1 = knn1.fit(X_train_scaled, y_train)\n",
        "print(\"Accuracy: \", knn1.score(X_train_scaled, y_train))\n",
        "print(\"F1-score(train): \", f1_score(y_train, knn1.predict(X_train_scaled)))\n",
        "print(\"F1-score(test): \", f1_score(y_test, knn1.predict(X_test_scaled)))"
      ],
      "metadata": {
        "colab": {
          "base_uri": "https://localhost:8080/"
        },
        "id": "G_iv3m7qVEUY",
        "outputId": "d891f9d4-95fc-416d-8dd7-95f59fdc47e6"
      },
      "execution_count": 106,
      "outputs": [
        {
          "output_type": "stream",
          "name": "stdout",
          "text": [
            "Accuracy:  0.9998894856662909\n",
            "F1-score(train):  0.9996179998471998\n",
            "F1-score(test):  0.33039945836154366\n"
          ]
        }
      ]
    },
    {
      "cell_type": "markdown",
      "source": [
        "___\n",
        "# Случайный Лес (Random Forest)"
      ],
      "metadata": {
        "id": "69yYvj5fVdCv"
      }
    },
    {
      "cell_type": "code",
      "source": [
        "RFC = RandomForestClassifier(random_state=0)"
      ],
      "metadata": {
        "id": "-J3TuvlkVhcJ"
      },
      "execution_count": 108,
      "outputs": []
    },
    {
      "cell_type": "code",
      "source": [
        "# Define the hyperparameter grid to search\n",
        "param_grid = {\n",
        "    'n_estimators': [100, 200, 300,1000],      # Number of trees in the forest\n",
        "    'max_depth': [None, 10, 20, 30],     # Maximum depth of each tree\n",
        "    'min_samples_split': [2, 5, 10,15],    # Minimum samples required to split an internal node\n",
        "    'min_samples_leaf': [1, 2, 4,6]       # Minimum number of samples required to be at a leaf node\n",
        "}"
      ],
      "metadata": {
        "id": "GuyGGzTbXdO-"
      },
      "execution_count": 109,
      "outputs": []
    },
    {
      "cell_type": "code",
      "source": [
        "grid_search = GridSearchCV(estimator=RFC, param_grid=param_grid, cv=5, scoring='f1', n_jobs=-1)\n",
        "\n",
        "# Perform the grid search\n",
        "grid_search.fit(X_train_scaled, y_train)"
      ],
      "metadata": {
        "colab": {
          "base_uri": "https://localhost:8080/",
          "height": 410
        },
        "id": "ZVxFtsXTXfy-",
        "outputId": "12ed0b4c-c894-4411-c84f-c1f5e73c939d"
      },
      "execution_count": 112,
      "outputs": [
        {
          "output_type": "stream",
          "name": "stderr",
          "text": [
            "/usr/local/lib/python3.10/dist-packages/joblib/externals/loky/process_executor.py:752: UserWarning: A worker stopped while some jobs were given to the executor. This can be caused by a too short worker timeout or by a memory leak.\n",
            "  warnings.warn(\n"
          ]
        },
        {
          "output_type": "error",
          "ename": "KeyboardInterrupt",
          "evalue": "ignored",
          "traceback": [
            "\u001b[0;31m---------------------------------------------------------------------------\u001b[0m",
            "\u001b[0;31mKeyboardInterrupt\u001b[0m                         Traceback (most recent call last)",
            "\u001b[0;32m<ipython-input-112-e5326b6942b4>\u001b[0m in \u001b[0;36m<cell line: 4>\u001b[0;34m()\u001b[0m\n\u001b[1;32m      2\u001b[0m \u001b[0;34m\u001b[0m\u001b[0m\n\u001b[1;32m      3\u001b[0m \u001b[0;31m# Perform the grid search\u001b[0m\u001b[0;34m\u001b[0m\u001b[0;34m\u001b[0m\u001b[0m\n\u001b[0;32m----> 4\u001b[0;31m \u001b[0mgrid_search\u001b[0m\u001b[0;34m.\u001b[0m\u001b[0mfit\u001b[0m\u001b[0;34m(\u001b[0m\u001b[0mX_train_scaled\u001b[0m\u001b[0;34m,\u001b[0m \u001b[0my_train\u001b[0m\u001b[0;34m)\u001b[0m\u001b[0;34m\u001b[0m\u001b[0;34m\u001b[0m\u001b[0m\n\u001b[0m",
            "\u001b[0;32m/usr/local/lib/python3.10/dist-packages/sklearn/model_selection/_search.py\u001b[0m in \u001b[0;36mfit\u001b[0;34m(self, X, y, groups, **fit_params)\u001b[0m\n\u001b[1;32m    872\u001b[0m                 \u001b[0;32mreturn\u001b[0m \u001b[0mresults\u001b[0m\u001b[0;34m\u001b[0m\u001b[0;34m\u001b[0m\u001b[0m\n\u001b[1;32m    873\u001b[0m \u001b[0;34m\u001b[0m\u001b[0m\n\u001b[0;32m--> 874\u001b[0;31m             \u001b[0mself\u001b[0m\u001b[0;34m.\u001b[0m\u001b[0m_run_search\u001b[0m\u001b[0;34m(\u001b[0m\u001b[0mevaluate_candidates\u001b[0m\u001b[0;34m)\u001b[0m\u001b[0;34m\u001b[0m\u001b[0;34m\u001b[0m\u001b[0m\n\u001b[0m\u001b[1;32m    875\u001b[0m \u001b[0;34m\u001b[0m\u001b[0m\n\u001b[1;32m    876\u001b[0m             \u001b[0;31m# multimetric is determined here because in the case of a callable\u001b[0m\u001b[0;34m\u001b[0m\u001b[0;34m\u001b[0m\u001b[0m\n",
            "\u001b[0;32m/usr/local/lib/python3.10/dist-packages/sklearn/model_selection/_search.py\u001b[0m in \u001b[0;36m_run_search\u001b[0;34m(self, evaluate_candidates)\u001b[0m\n\u001b[1;32m   1386\u001b[0m     \u001b[0;32mdef\u001b[0m \u001b[0m_run_search\u001b[0m\u001b[0;34m(\u001b[0m\u001b[0mself\u001b[0m\u001b[0;34m,\u001b[0m \u001b[0mevaluate_candidates\u001b[0m\u001b[0;34m)\u001b[0m\u001b[0;34m:\u001b[0m\u001b[0;34m\u001b[0m\u001b[0;34m\u001b[0m\u001b[0m\n\u001b[1;32m   1387\u001b[0m         \u001b[0;34m\"\"\"Search all candidates in param_grid\"\"\"\u001b[0m\u001b[0;34m\u001b[0m\u001b[0;34m\u001b[0m\u001b[0m\n\u001b[0;32m-> 1388\u001b[0;31m         \u001b[0mevaluate_candidates\u001b[0m\u001b[0;34m(\u001b[0m\u001b[0mParameterGrid\u001b[0m\u001b[0;34m(\u001b[0m\u001b[0mself\u001b[0m\u001b[0;34m.\u001b[0m\u001b[0mparam_grid\u001b[0m\u001b[0;34m)\u001b[0m\u001b[0;34m)\u001b[0m\u001b[0;34m\u001b[0m\u001b[0;34m\u001b[0m\u001b[0m\n\u001b[0m\u001b[1;32m   1389\u001b[0m \u001b[0;34m\u001b[0m\u001b[0m\n\u001b[1;32m   1390\u001b[0m \u001b[0;34m\u001b[0m\u001b[0m\n",
            "\u001b[0;32m/usr/local/lib/python3.10/dist-packages/sklearn/model_selection/_search.py\u001b[0m in \u001b[0;36mevaluate_candidates\u001b[0;34m(candidate_params, cv, more_results)\u001b[0m\n\u001b[1;32m    819\u001b[0m                     )\n\u001b[1;32m    820\u001b[0m \u001b[0;34m\u001b[0m\u001b[0m\n\u001b[0;32m--> 821\u001b[0;31m                 out = parallel(\n\u001b[0m\u001b[1;32m    822\u001b[0m                     delayed(_fit_and_score)(\n\u001b[1;32m    823\u001b[0m                         \u001b[0mclone\u001b[0m\u001b[0;34m(\u001b[0m\u001b[0mbase_estimator\u001b[0m\u001b[0;34m)\u001b[0m\u001b[0;34m,\u001b[0m\u001b[0;34m\u001b[0m\u001b[0;34m\u001b[0m\u001b[0m\n",
            "\u001b[0;32m/usr/local/lib/python3.10/dist-packages/sklearn/utils/parallel.py\u001b[0m in \u001b[0;36m__call__\u001b[0;34m(self, iterable)\u001b[0m\n\u001b[1;32m     61\u001b[0m             \u001b[0;32mfor\u001b[0m \u001b[0mdelayed_func\u001b[0m\u001b[0;34m,\u001b[0m \u001b[0margs\u001b[0m\u001b[0;34m,\u001b[0m \u001b[0mkwargs\u001b[0m \u001b[0;32min\u001b[0m \u001b[0miterable\u001b[0m\u001b[0;34m\u001b[0m\u001b[0;34m\u001b[0m\u001b[0m\n\u001b[1;32m     62\u001b[0m         )\n\u001b[0;32m---> 63\u001b[0;31m         \u001b[0;32mreturn\u001b[0m \u001b[0msuper\u001b[0m\u001b[0;34m(\u001b[0m\u001b[0;34m)\u001b[0m\u001b[0;34m.\u001b[0m\u001b[0m__call__\u001b[0m\u001b[0;34m(\u001b[0m\u001b[0miterable_with_config\u001b[0m\u001b[0;34m)\u001b[0m\u001b[0;34m\u001b[0m\u001b[0;34m\u001b[0m\u001b[0m\n\u001b[0m\u001b[1;32m     64\u001b[0m \u001b[0;34m\u001b[0m\u001b[0m\n\u001b[1;32m     65\u001b[0m \u001b[0;34m\u001b[0m\u001b[0m\n",
            "\u001b[0;32m/usr/local/lib/python3.10/dist-packages/joblib/parallel.py\u001b[0m in \u001b[0;36m__call__\u001b[0;34m(self, iterable)\u001b[0m\n\u001b[1;32m   1950\u001b[0m         \u001b[0mnext\u001b[0m\u001b[0;34m(\u001b[0m\u001b[0moutput\u001b[0m\u001b[0;34m)\u001b[0m\u001b[0;34m\u001b[0m\u001b[0;34m\u001b[0m\u001b[0m\n\u001b[1;32m   1951\u001b[0m \u001b[0;34m\u001b[0m\u001b[0m\n\u001b[0;32m-> 1952\u001b[0;31m         \u001b[0;32mreturn\u001b[0m \u001b[0moutput\u001b[0m \u001b[0;32mif\u001b[0m \u001b[0mself\u001b[0m\u001b[0;34m.\u001b[0m\u001b[0mreturn_generator\u001b[0m \u001b[0;32melse\u001b[0m \u001b[0mlist\u001b[0m\u001b[0;34m(\u001b[0m\u001b[0moutput\u001b[0m\u001b[0;34m)\u001b[0m\u001b[0;34m\u001b[0m\u001b[0;34m\u001b[0m\u001b[0m\n\u001b[0m\u001b[1;32m   1953\u001b[0m \u001b[0;34m\u001b[0m\u001b[0m\n\u001b[1;32m   1954\u001b[0m     \u001b[0;32mdef\u001b[0m \u001b[0m__repr__\u001b[0m\u001b[0;34m(\u001b[0m\u001b[0mself\u001b[0m\u001b[0;34m)\u001b[0m\u001b[0;34m:\u001b[0m\u001b[0;34m\u001b[0m\u001b[0;34m\u001b[0m\u001b[0m\n",
            "\u001b[0;32m/usr/local/lib/python3.10/dist-packages/joblib/parallel.py\u001b[0m in \u001b[0;36m_get_outputs\u001b[0;34m(self, iterator, pre_dispatch)\u001b[0m\n\u001b[1;32m   1593\u001b[0m \u001b[0;34m\u001b[0m\u001b[0m\n\u001b[1;32m   1594\u001b[0m             \u001b[0;32mwith\u001b[0m \u001b[0mself\u001b[0m\u001b[0;34m.\u001b[0m\u001b[0m_backend\u001b[0m\u001b[0;34m.\u001b[0m\u001b[0mretrieval_context\u001b[0m\u001b[0;34m(\u001b[0m\u001b[0;34m)\u001b[0m\u001b[0;34m:\u001b[0m\u001b[0;34m\u001b[0m\u001b[0;34m\u001b[0m\u001b[0m\n\u001b[0;32m-> 1595\u001b[0;31m                 \u001b[0;32myield\u001b[0m \u001b[0;32mfrom\u001b[0m \u001b[0mself\u001b[0m\u001b[0;34m.\u001b[0m\u001b[0m_retrieve\u001b[0m\u001b[0;34m(\u001b[0m\u001b[0;34m)\u001b[0m\u001b[0;34m\u001b[0m\u001b[0;34m\u001b[0m\u001b[0m\n\u001b[0m\u001b[1;32m   1596\u001b[0m \u001b[0;34m\u001b[0m\u001b[0m\n\u001b[1;32m   1597\u001b[0m         \u001b[0;32mexcept\u001b[0m \u001b[0mGeneratorExit\u001b[0m\u001b[0;34m:\u001b[0m\u001b[0;34m\u001b[0m\u001b[0;34m\u001b[0m\u001b[0m\n",
            "\u001b[0;32m/usr/local/lib/python3.10/dist-packages/joblib/parallel.py\u001b[0m in \u001b[0;36m_retrieve\u001b[0;34m(self)\u001b[0m\n\u001b[1;32m   1705\u001b[0m                 (self._jobs[0].get_status(\n\u001b[1;32m   1706\u001b[0m                     timeout=self.timeout) == TASK_PENDING)):\n\u001b[0;32m-> 1707\u001b[0;31m                 \u001b[0mtime\u001b[0m\u001b[0;34m.\u001b[0m\u001b[0msleep\u001b[0m\u001b[0;34m(\u001b[0m\u001b[0;36m0.01\u001b[0m\u001b[0;34m)\u001b[0m\u001b[0;34m\u001b[0m\u001b[0;34m\u001b[0m\u001b[0m\n\u001b[0m\u001b[1;32m   1708\u001b[0m                 \u001b[0;32mcontinue\u001b[0m\u001b[0;34m\u001b[0m\u001b[0;34m\u001b[0m\u001b[0m\n\u001b[1;32m   1709\u001b[0m \u001b[0;34m\u001b[0m\u001b[0m\n",
            "\u001b[0;31mKeyboardInterrupt\u001b[0m: "
          ]
        }
      ]
    },
    {
      "cell_type": "code",
      "source": [
        "# Get the best hyperparameters from the grid search\n",
        "best_params = grid_search.best_params_"
      ],
      "metadata": {
        "id": "lUG95osYX2Sl"
      },
      "execution_count": null,
      "outputs": []
    },
    {
      "cell_type": "code",
      "source": [
        "# Create a Random Forest Classifier with the best hyperparameters\n",
        "RFC_best = RandomForestClassifier(random_state=42, **best_params)"
      ],
      "metadata": {
        "id": "d0H7zrEpX4xu"
      },
      "execution_count": null,
      "outputs": []
    }
  ]
}